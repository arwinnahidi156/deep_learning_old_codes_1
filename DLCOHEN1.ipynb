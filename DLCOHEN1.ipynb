{
 "cells": [
  {
   "cell_type": "code",
   "execution_count": 1,
   "id": "7de5e6d3",
   "metadata": {},
   "outputs": [],
   "source": [
    "import pandas as pd\n",
    "import numpy as np\n",
    "import matplotlib.pyplot as plt\n",
    "import seaborn as sns\n",
    "import torch"
   ]
  },
  {
   "cell_type": "code",
   "execution_count": 2,
   "id": "893cab80",
   "metadata": {},
   "outputs": [
    {
     "name": "stdout",
     "output_type": "stream",
     "text": [
      "[[1 2 3 4]]\n"
     ]
    }
   ],
   "source": [
    "nv=np.array([[1,2,3,4]])\n",
    "print(nv)"
   ]
  },
  {
   "cell_type": "code",
   "execution_count": 3,
   "id": "1f91c84b",
   "metadata": {},
   "outputs": [
    {
     "name": "stdout",
     "output_type": "stream",
     "text": [
      "[[1]\n",
      " [2]\n",
      " [3]\n",
      " [4]]\n"
     ]
    }
   ],
   "source": [
    "print(nv.T)"
   ]
  },
  {
   "cell_type": "code",
   "execution_count": 4,
   "id": "1d345f19",
   "metadata": {},
   "outputs": [],
   "source": [
    "nvT=nv.T"
   ]
  },
  {
   "cell_type": "code",
   "execution_count": 5,
   "id": "319cb1f9",
   "metadata": {},
   "outputs": [
    {
     "name": "stdout",
     "output_type": "stream",
     "text": [
      "[[1 2 3 4]]\n"
     ]
    }
   ],
   "source": [
    "print(nvT.T)"
   ]
  },
  {
   "cell_type": "code",
   "execution_count": 6,
   "id": "1de601d9",
   "metadata": {},
   "outputs": [
    {
     "name": "stdout",
     "output_type": "stream",
     "text": [
      "[[1 2 3 4]\n",
      " [5 6 7 8]]\n"
     ]
    }
   ],
   "source": [
    "nM=np.array([[1,2,3,4],[5,6,7,8]])\n",
    "print(nM)"
   ]
  },
  {
   "cell_type": "code",
   "execution_count": 7,
   "id": "d0756829",
   "metadata": {},
   "outputs": [
    {
     "name": "stdout",
     "output_type": "stream",
     "text": [
      "[[1 5]\n",
      " [2 6]\n",
      " [3 7]\n",
      " [4 8]]\n"
     ]
    }
   ],
   "source": [
    "print(nM.T)"
   ]
  },
  {
   "cell_type": "code",
   "execution_count": 8,
   "id": "fb81c195",
   "metadata": {},
   "outputs": [
    {
     "name": "stdout",
     "output_type": "stream",
     "text": [
      "[[1 2 3 4]\n",
      " [5 6 7 8]]\n"
     ]
    }
   ],
   "source": [
    "nMT=nM.T\n",
    "print(nMT.T)"
   ]
  },
  {
   "cell_type": "code",
   "execution_count": 9,
   "id": "868909b6",
   "metadata": {},
   "outputs": [
    {
     "name": "stdout",
     "output_type": "stream",
     "text": [
      "tensor([[1, 2, 3, 4]])\n"
     ]
    }
   ],
   "source": [
    "tv=torch.tensor([[1,2,3,4]])\n",
    "print(tv)"
   ]
  },
  {
   "cell_type": "code",
   "execution_count": 10,
   "id": "73539600",
   "metadata": {},
   "outputs": [
    {
     "name": "stdout",
     "output_type": "stream",
     "text": [
      "tensor([[1],\n",
      "        [2],\n",
      "        [3],\n",
      "        [4]])\n"
     ]
    }
   ],
   "source": [
    "print(tv.T)"
   ]
  },
  {
   "cell_type": "code",
   "execution_count": 11,
   "id": "874c4653",
   "metadata": {},
   "outputs": [
    {
     "name": "stdout",
     "output_type": "stream",
     "text": [
      "tensor([[1, 2, 3, 4]])\n"
     ]
    }
   ],
   "source": [
    "tvT=tv.T\n",
    "print(tvT.T)"
   ]
  },
  {
   "cell_type": "code",
   "execution_count": 12,
   "id": "8360d492",
   "metadata": {},
   "outputs": [
    {
     "name": "stdout",
     "output_type": "stream",
     "text": [
      "tensor([[1, 2, 3, 4],\n",
      "        [5, 6, 7, 8]])\n"
     ]
    }
   ],
   "source": [
    "tm=torch.tensor([[1,2,3,4],[5,6,7,8]])\n",
    "print(tm)"
   ]
  },
  {
   "cell_type": "code",
   "execution_count": 13,
   "id": "45c1e433",
   "metadata": {},
   "outputs": [
    {
     "name": "stdout",
     "output_type": "stream",
     "text": [
      "tensor([[1, 5],\n",
      "        [2, 6],\n",
      "        [3, 7],\n",
      "        [4, 8]])\n"
     ]
    }
   ],
   "source": [
    "print(tm.T)"
   ]
  },
  {
   "cell_type": "code",
   "execution_count": 14,
   "id": "feae8058",
   "metadata": {},
   "outputs": [
    {
     "name": "stdout",
     "output_type": "stream",
     "text": [
      "tensor([[1, 2, 3, 4],\n",
      "        [5, 6, 7, 8]])\n"
     ]
    }
   ],
   "source": [
    "tmT=tm.T\n",
    "print(tmT.T)"
   ]
  },
  {
   "cell_type": "code",
   "execution_count": 15,
   "id": "fe201545",
   "metadata": {},
   "outputs": [
    {
     "name": "stdout",
     "output_type": "stream",
     "text": [
      "<class 'numpy.ndarray'>\n",
      "<class 'numpy.ndarray'>\n"
     ]
    }
   ],
   "source": [
    "print(type(nv))\n",
    "print(type(nM))"
   ]
  },
  {
   "cell_type": "code",
   "execution_count": 16,
   "id": "7e8f2341",
   "metadata": {},
   "outputs": [
    {
     "name": "stdout",
     "output_type": "stream",
     "text": [
      "<class 'torch.Tensor'>\n"
     ]
    }
   ],
   "source": [
    "print(type(tv))"
   ]
  },
  {
   "cell_type": "code",
   "execution_count": 17,
   "id": "c54e7e44",
   "metadata": {},
   "outputs": [
    {
     "name": "stdout",
     "output_type": "stream",
     "text": [
      "<class 'torch.Tensor'>\n"
     ]
    }
   ],
   "source": [
    "print(type(tm))"
   ]
  },
  {
   "cell_type": "code",
   "execution_count": 18,
   "id": "f8704ee0",
   "metadata": {},
   "outputs": [
    {
     "name": "stdout",
     "output_type": "stream",
     "text": [
      "-2\n"
     ]
    }
   ],
   "source": [
    "nv1=np.array([1,2,3,4])\n",
    "nv2=np.array([0,1,0,-1])\n",
    "print(np.dot(nv1,nv2))"
   ]
  },
  {
   "cell_type": "code",
   "execution_count": 19,
   "id": "e50b15f1",
   "metadata": {},
   "outputs": [
    {
     "name": "stdout",
     "output_type": "stream",
     "text": [
      "-2\n"
     ]
    }
   ],
   "source": [
    "print(np.sum(nv1*nv2))"
   ]
  },
  {
   "cell_type": "code",
   "execution_count": 20,
   "id": "9ed97968",
   "metadata": {},
   "outputs": [
    {
     "name": "stdout",
     "output_type": "stream",
     "text": [
      "tensor(-2)\n"
     ]
    }
   ],
   "source": [
    "tv1=torch.tensor([1,2,3,4])\n",
    "tv2=torch.tensor([0,1,0,-1])\n",
    "print(torch.dot(tv1,tv2))"
   ]
  },
  {
   "cell_type": "code",
   "execution_count": 21,
   "id": "779ba163",
   "metadata": {},
   "outputs": [
    {
     "name": "stdout",
     "output_type": "stream",
     "text": [
      "tensor(-2)\n"
     ]
    }
   ],
   "source": [
    "print(torch.sum(tv1*tv2))"
   ]
  },
  {
   "cell_type": "code",
   "execution_count": 22,
   "id": "1eba7e8c",
   "metadata": {},
   "outputs": [
    {
     "name": "stdout",
     "output_type": "stream",
     "text": [
      "[[ 4.  1.  0.  3. -2.]\n",
      " [-2. -0.  1. -1. -1.]\n",
      " [-3. -5. -0. -2. -1.]]\n"
     ]
    }
   ],
   "source": [
    "A=np.random.randn(3,4)\n",
    "B=np.random.randn(4,5)\n",
    "C=np.random.randn(3,7)\n",
    "print(np.round(A@B))"
   ]
  },
  {
   "cell_type": "code",
   "execution_count": 23,
   "id": "406ed275",
   "metadata": {},
   "outputs": [
    {
     "name": "stdout",
     "output_type": "stream",
     "text": [
      "[[ 2.  1.  1.  1.]\n",
      " [ 1.  2.  0. -0.]\n",
      " [ 0. -0. -1.  0.]\n",
      " [-0.  3.  2. -1.]\n",
      " [-1. -4. -3.  1.]\n",
      " [-2.  1.  5. -2.]\n",
      " [-0.  1. -1. -0.]]\n"
     ]
    }
   ],
   "source": [
    "print(np.round(C.T@A))"
   ]
  },
  {
   "cell_type": "code",
   "execution_count": 24,
   "id": "80a15cbb",
   "metadata": {},
   "outputs": [
    {
     "name": "stdout",
     "output_type": "stream",
     "text": [
      "tensor([[ 1., -0.,  0., -0., -1.],\n",
      "        [-2., -6., -1.,  3., -2.],\n",
      "        [-2.,  3.,  2., -5.,  2.]], dtype=torch.float64)\n"
     ]
    }
   ],
   "source": [
    "A1=torch.randn(3,4)\n",
    "B1=torch.randn(4,5)\n",
    "C1=torch.randn(3,7)\n",
    "print(np.round(A1@B))"
   ]
  },
  {
   "cell_type": "code",
   "execution_count": 25,
   "id": "d03c81c1",
   "metadata": {},
   "outputs": [
    {
     "name": "stdout",
     "output_type": "stream",
     "text": [
      "[[ 2.  1.  1.  1.]\n",
      " [ 1.  2.  0. -0.]\n",
      " [ 0. -0. -1.  0.]\n",
      " [-0.  3.  2. -1.]\n",
      " [-1. -4. -3.  1.]\n",
      " [-2.  1.  5. -2.]\n",
      " [-0.  1. -1. -0.]]\n"
     ]
    }
   ],
   "source": [
    "print(np.round(C.T@A))"
   ]
  },
  {
   "cell_type": "code",
   "execution_count": 26,
   "id": "e28e7340",
   "metadata": {},
   "outputs": [
    {
     "name": "stderr",
     "output_type": "stream",
     "text": [
      "/tmp/ipykernel_5393/1026885321.py:1: UserWarning: To copy construct from a tensor, it is recommended to use sourceTensor.clone().detach() or sourceTensor.clone().detach().requires_grad_(True), rather than torch.tensor(sourceTensor).\n",
      "  C2=torch.tensor(C1,dtype=torch.float)\n"
     ]
    }
   ],
   "source": [
    "C2=torch.tensor(C1,dtype=torch.float)"
   ]
  },
  {
   "cell_type": "code",
   "execution_count": 27,
   "id": "603d7871",
   "metadata": {},
   "outputs": [
    {
     "data": {
      "text/plain": [
       "tensor([[ 0.5510, -1.2116,  0.5751, -1.4091, -0.7967,  0.7808, -0.9900],\n",
       "        [ 0.4027, -0.8892, -1.5509,  0.5671, -0.4250, -2.0399,  1.1693],\n",
       "        [ 1.9463, -0.1800,  0.3118, -1.6327,  1.4241, -0.7483, -0.7819]])"
      ]
     },
     "execution_count": 27,
     "metadata": {},
     "output_type": "execute_result"
    }
   ],
   "source": [
    "C2"
   ]
  },
  {
   "cell_type": "code",
   "execution_count": 28,
   "id": "697b00ff",
   "metadata": {},
   "outputs": [
    {
     "data": {
      "text/plain": [
       "tensor([[ 1.4813,  1.9229, -0.0332, -3.0812],\n",
       "        [-0.0990, -0.5346, -1.8853, -0.4655],\n",
       "        [ 2.2602, -0.0208, -2.3742, -1.5174],\n",
       "        [-2.8652, -1.5161,  1.0510,  3.0583],\n",
       "        [ 0.9566,  1.0773, -1.7182, -2.9209],\n",
       "        [ 2.0992, -1.0683, -2.5603,  0.0530],\n",
       "        [-2.5287, -0.5490,  1.7996,  2.0268]])"
      ]
     },
     "execution_count": 28,
     "metadata": {},
     "output_type": "execute_result"
    }
   ],
   "source": [
    "C1.T@A1"
   ]
  },
  {
   "cell_type": "code",
   "execution_count": 29,
   "id": "7749518f",
   "metadata": {},
   "outputs": [
    {
     "data": {
      "text/plain": [
       "tensor([[ 1.4813,  1.9229, -0.0332, -3.0812],\n",
       "        [-0.0990, -0.5346, -1.8853, -0.4655],\n",
       "        [ 2.2602, -0.0208, -2.3742, -1.5174],\n",
       "        [-2.8652, -1.5161,  1.0510,  3.0583],\n",
       "        [ 0.9566,  1.0773, -1.7182, -2.9209],\n",
       "        [ 2.0992, -1.0683, -2.5603,  0.0530],\n",
       "        [-2.5287, -0.5490,  1.7996,  2.0268]])"
      ]
     },
     "execution_count": 29,
     "metadata": {},
     "output_type": "execute_result"
    }
   ],
   "source": [
    "C2.T@A1"
   ]
  },
  {
   "cell_type": "code",
   "execution_count": 30,
   "id": "074f2702",
   "metadata": {},
   "outputs": [],
   "source": [
    "import torch.nn as nn\n",
    "import matplotlib.pyplot as plt"
   ]
  },
  {
   "cell_type": "code",
   "execution_count": 31,
   "id": "fc7a3aad",
   "metadata": {},
   "outputs": [],
   "source": [
    "z=[1,2,3]\n",
    "num=np.exp(z)\n",
    "den=np.sum(num)\n",
    "sigma=num/den"
   ]
  },
  {
   "cell_type": "code",
   "execution_count": 32,
   "id": "b64ec7ac",
   "metadata": {},
   "outputs": [
    {
     "data": {
      "text/plain": [
       "array([0.09003057, 0.24472847, 0.66524096])"
      ]
     },
     "execution_count": 32,
     "metadata": {},
     "output_type": "execute_result"
    }
   ],
   "source": [
    "sigma"
   ]
  },
  {
   "cell_type": "code",
   "execution_count": 33,
   "id": "7ed3e9eb",
   "metadata": {},
   "outputs": [],
   "source": [
    "z=np.random.randint(-5,15,25)"
   ]
  },
  {
   "cell_type": "code",
   "execution_count": 34,
   "id": "d0b2b0c1",
   "metadata": {},
   "outputs": [
    {
     "data": {
      "text/plain": [
       "array([-2, -2, -2, -1, -1,  2,  2,  7, 13, 11, 10,  0, -4, 14, -2,  1,  7,\n",
       "        2,  3, 10, 11, 12, -2,  5, 12])"
      ]
     },
     "execution_count": 34,
     "metadata": {},
     "output_type": "execute_result"
    }
   ],
   "source": [
    "z"
   ]
  },
  {
   "cell_type": "code",
   "execution_count": 35,
   "id": "ebd447b3",
   "metadata": {},
   "outputs": [],
   "source": [
    "\n",
    "num=np.exp(z)\n",
    "den=np.sum(num)\n",
    "sigma=num/den"
   ]
  },
  {
   "cell_type": "code",
   "execution_count": 36,
   "id": "4b1a7a4d",
   "metadata": {},
   "outputs": [
    {
     "name": "stdout",
     "output_type": "stream",
     "text": [
      "[6.33379376e-08 6.33379376e-08 6.33379376e-08 1.72170365e-07\n",
      " 1.72170365e-07 3.45813422e-06 3.45813422e-06 5.13232624e-04\n",
      " 2.07052818e-01 2.80215518e-02 1.03085528e-02 4.68007574e-07\n",
      " 8.57185773e-09 5.62827914e-01 6.33379376e-08 1.27217648e-06\n",
      " 5.13232624e-04 3.45813422e-06 9.40018341e-06 1.03085528e-02\n",
      " 2.80215518e-02 7.61704751e-02 6.33379376e-08 6.94584826e-05\n",
      " 7.61704751e-02]\n"
     ]
    }
   ],
   "source": [
    "print(sigma)"
   ]
  },
  {
   "cell_type": "code",
   "execution_count": 37,
   "id": "20b2eefe",
   "metadata": {},
   "outputs": [
    {
     "data": {
      "text/plain": [
       "Text(0.5, 1.0, '$\\\\sum\\\\sigma$=0.9999999999999999')"
      ]
     },
     "execution_count": 37,
     "metadata": {},
     "output_type": "execute_result"
    },
    {
     "data": {
      "image/png": "[encoded data removed]",
      "text/plain": [
       "<Figure size 640x480 with 1 Axes>"
      ]
     },
     "metadata": {},
     "output_type": "display_data"
    }
   ],
   "source": [
    "plt.plot(z,sigma,'ko')\n",
    "plt.xlabel('original number (z)')\n",
    "plt.ylabel('softmaxified $\\sigma$')\n",
    "plt.title(f'$\\sum\\sigma$={np.sum(sigma)}')\n"
   ]
  },
  {
   "cell_type": "code",
   "execution_count": 38,
   "id": "2b8ea030",
   "metadata": {},
   "outputs": [],
   "source": [
    "softfun=nn.Softmax(dim=0)\n",
    "sigmaT=softfun(torch.Tensor(z))"
   ]
  },
  {
   "cell_type": "code",
   "execution_count": 39,
   "id": "ecf08079",
   "metadata": {},
   "outputs": [
    {
     "name": "stdout",
     "output_type": "stream",
     "text": [
      "tensor([6.3338e-08, 6.3338e-08, 6.3338e-08, 1.7217e-07, 1.7217e-07, 3.4581e-06,\n",
      "        3.4581e-06, 5.1323e-04, 2.0705e-01, 2.8022e-02, 1.0309e-02, 4.6801e-07,\n",
      "        8.5719e-09, 5.6283e-01, 6.3338e-08, 1.2722e-06, 5.1323e-04, 3.4581e-06,\n",
      "        9.4002e-06, 1.0309e-02, 2.8022e-02, 7.6170e-02, 6.3338e-08, 6.9458e-05,\n",
      "        7.6170e-02])\n"
     ]
    }
   ],
   "source": [
    "print(sigmaT)"
   ]
  },
  {
   "cell_type": "code",
   "execution_count": 40,
   "id": "fc5e8d4b",
   "metadata": {},
   "outputs": [
    {
     "data": {
      "text/plain": [
       "torch.Tensor"
      ]
     },
     "execution_count": 40,
     "metadata": {},
     "output_type": "execute_result"
    }
   ],
   "source": [
    "type(torch.Tensor(z))"
   ]
  },
  {
   "cell_type": "code",
   "execution_count": 41,
   "id": "9e56747b",
   "metadata": {},
   "outputs": [
    {
     "data": {
      "text/plain": [
       "Text(0.5, 1.0, 'the correlation of two methods is r=1.0')"
      ]
     },
     "execution_count": 41,
     "metadata": {},
     "output_type": "execute_result"
    },
    {
     "data": {
      "image/png": "[encoded data removed]",
      "text/plain": [
       "<Figure size 640x480 with 1 Axes>"
      ]
     },
     "metadata": {},
     "output_type": "display_data"
    }
   ],
   "source": [
    "plt.plot(sigma,sigmaT,'ko')\n",
    "plt.xlabel('manual softmax')\n",
    "plt.ylabel('torch nn.softmax')\n",
    "plt.title(f'the correlation of two methods is r={np.round(np.corrcoef(sigma,sigmaT)[0,1])}')"
   ]
  },
  {
   "cell_type": "code",
   "execution_count": 42,
   "id": "29eaf013",
   "metadata": {},
   "outputs": [
    {
     "data": {
      "text/plain": [
       "Text(0, 0.5, 'log(x)')"
      ]
     },
     "execution_count": 42,
     "metadata": {},
     "output_type": "execute_result"
    },
    {
     "data": {
      "image/png": "[encoded data removed]",
      "text/plain": [
       "<Figure size 1000x400 with 1 Axes>"
      ]
     },
     "metadata": {},
     "output_type": "display_data"
    }
   ],
   "source": [
    "x=np.linspace(0.001,1,200)\n",
    "logx=np.log(x)\n",
    "fig=plt.figure(figsize=(10,4))\n",
    "plt.plot(x,logx,'ks-',markerfacecolor='w')\n",
    "plt.xlabel('x')\n",
    "plt.ylabel('log(x)')"
   ]
  },
  {
   "cell_type": "code",
   "execution_count": 43,
   "id": "42826eda",
   "metadata": {},
   "outputs": [
    {
     "data": {
      "text/plain": [
       "<matplotlib.legend.Legend at 0x7f0698863c70>"
      ]
     },
     "execution_count": 43,
     "metadata": {},
     "output_type": "execute_result"
    },
    {
     "data": {
      "image/png": "[encoded data removed]",
      "text/plain": [
       "<Figure size 640x480 with 1 Axes>"
      ]
     },
     "metadata": {},
     "output_type": "display_data"
    }
   ],
   "source": [
    "x=np.linspace(0.001,1,20)\n",
    "logx=np.log(x)\n",
    "expx=np.exp(x)\n",
    "plt.plot(x,x,color=[0.8,0.8,0.8])\n",
    "plt.plot(x,np.exp(logx),'o')\n",
    "plt.plot(x,np.log(expx),'x')\n",
    "plt.xlabel('x')\n",
    "plt.ylabel('f(g(x))')\n",
    "plt.legend(['unity','exp(log(x))','log(exp(x))'])"
   ]
  },
  {
   "cell_type": "code",
   "execution_count": 45,
   "id": "3ae0634d",
   "metadata": {},
   "outputs": [
    {
     "name": "stdout",
     "output_type": "stream",
     "text": [
      "wrong entropy :0.34657359027997264\n"
     ]
    }
   ],
   "source": [
    "p=0.25\n",
    "H=-(p*np.log(p))\n",
    "print('wrong entropy :' +str(H))"
   ]
  },
  {
   "cell_type": "code",
   "execution_count": 46,
   "id": "9dcbd01a",
   "metadata": {},
   "outputs": [
    {
     "name": "stdout",
     "output_type": "stream",
     "text": [
      "correct entropy :0.5623351446188083\n"
     ]
    }
   ],
   "source": [
    "x=[0.25,0.75]\n",
    "H=0\n",
    "for p in x:\n",
    "    H-=p*np.log(p)\n",
    "print('correct entropy :' +str(H))"
   ]
  },
  {
   "cell_type": "code",
   "execution_count": 47,
   "id": "564f670d",
   "metadata": {},
   "outputs": [
    {
     "name": "stdout",
     "output_type": "stream",
     "text": [
      "cross entropy:1.3862943611198906\n"
     ]
    }
   ],
   "source": [
    "p=[1,0]\n",
    "q=[0.25,0.75]\n",
    "H=0\n",
    "for i in range(len(p)):\n",
    "    H-=p[i]*np.log(q[i])\n",
    "print('cross entropy:'+str(H))"
   ]
  },
  {
   "cell_type": "code",
   "execution_count": 48,
   "id": "c25f3bff",
   "metadata": {},
   "outputs": [],
   "source": [
    "import torch.nn.functional as F"
   ]
  },
  {
   "cell_type": "code",
   "execution_count": 51,
   "id": "b3ed66a2",
   "metadata": {},
   "outputs": [
    {
     "data": {
      "text/plain": [
       "tensor(1.3863)"
      ]
     },
     "execution_count": 51,
     "metadata": {},
     "output_type": "execute_result"
    }
   ],
   "source": [
    "q_tensor=torch.Tensor(q)\n",
    "p_tensor=torch.Tensor(p)\n",
    "F.binary_cross_entropy(q_tensor,p_tensor)\n"
   ]
  },
  {
   "cell_type": "code",
   "execution_count": 52,
   "id": "e11dadba",
   "metadata": {},
   "outputs": [
    {
     "name": "stdout",
     "output_type": "stream",
     "text": [
      "min -3 and max 40\n"
     ]
    }
   ],
   "source": [
    "v=np.array([1,40,2,-3])\n",
    "minval=np.min(v)\n",
    "maxval=np.max(v)\n",
    "print(f'min {minval} and max {maxval}')"
   ]
  },
  {
   "cell_type": "code",
   "execution_count": 53,
   "id": "75f7bbd6",
   "metadata": {},
   "outputs": [
    {
     "name": "stdout",
     "output_type": "stream",
     "text": [
      "min idx 3 and max idx 1\n"
     ]
    }
   ],
   "source": [
    "minidx=np.argmin(v)\n",
    "maxidx=np.argmax(v)\n",
    "print(f'min idx {minidx} and max idx {maxidx}')"
   ]
  },
  {
   "cell_type": "code",
   "execution_count": 54,
   "id": "7ccac7e0",
   "metadata": {},
   "outputs": [
    {
     "data": {
      "text/plain": [
       "-3"
      ]
     },
     "execution_count": 54,
     "metadata": {},
     "output_type": "execute_result"
    }
   ],
   "source": [
    "v[minidx]"
   ]
  },
  {
   "cell_type": "code",
   "execution_count": 55,
   "id": "81375a46",
   "metadata": {},
   "outputs": [
    {
     "data": {
      "text/plain": [
       "40"
      ]
     },
     "execution_count": 55,
     "metadata": {},
     "output_type": "execute_result"
    }
   ],
   "source": [
    "v[maxidx]"
   ]
  },
  {
   "cell_type": "code",
   "execution_count": 56,
   "id": "58c63978",
   "metadata": {},
   "outputs": [
    {
     "name": "stdout",
     "output_type": "stream",
     "text": [
      "[[ 0  1 10]\n",
      " [20  8  5]]\n"
     ]
    }
   ],
   "source": [
    "M=np.array([[0,1,10],[20,8,5]])\n",
    "print(M)"
   ]
  },
  {
   "cell_type": "code",
   "execution_count": 57,
   "id": "aae7a3f9",
   "metadata": {},
   "outputs": [
    {
     "name": "stdout",
     "output_type": "stream",
     "text": [
      "0\n"
     ]
    }
   ],
   "source": [
    "minvals1=np.min(M)\n",
    "print(minvals1)"
   ]
  },
  {
   "cell_type": "code",
   "execution_count": 58,
   "id": "27979750",
   "metadata": {},
   "outputs": [
    {
     "name": "stdout",
     "output_type": "stream",
     "text": [
      "[0 1 5]\n"
     ]
    }
   ],
   "source": [
    "print(np.min(M,axis=0))"
   ]
  },
  {
   "cell_type": "code",
   "execution_count": 59,
   "id": "d7438ca7",
   "metadata": {},
   "outputs": [
    {
     "name": "stdout",
     "output_type": "stream",
     "text": [
      "[0 5]\n"
     ]
    }
   ],
   "source": [
    "print(np.min(M,axis=1))"
   ]
  },
  {
   "cell_type": "code",
   "execution_count": 60,
   "id": "1cbfb259",
   "metadata": {},
   "outputs": [
    {
     "data": {
      "text/plain": [
       "0"
      ]
     },
     "execution_count": 60,
     "metadata": {},
     "output_type": "execute_result"
    }
   ],
   "source": [
    "np.argmin(M)"
   ]
  },
  {
   "cell_type": "code",
   "execution_count": 61,
   "id": "54533f18",
   "metadata": {},
   "outputs": [
    {
     "data": {
      "text/plain": [
       "array([ 0,  1, 10])"
      ]
     },
     "execution_count": 61,
     "metadata": {},
     "output_type": "execute_result"
    }
   ],
   "source": [
    "M[np.argmin(M)]"
   ]
  },
  {
   "cell_type": "code",
   "execution_count": 62,
   "id": "14ffd2d4",
   "metadata": {},
   "outputs": [
    {
     "data": {
      "text/plain": [
       "array([0, 0, 1])"
      ]
     },
     "execution_count": 62,
     "metadata": {},
     "output_type": "execute_result"
    }
   ],
   "source": [
    "np.argmin(M,axis=0)"
   ]
  },
  {
   "cell_type": "code",
   "execution_count": 63,
   "id": "9d340ec8",
   "metadata": {},
   "outputs": [
    {
     "data": {
      "text/plain": [
       "array([[ 0,  1, 10],\n",
       "       [ 0,  1, 10],\n",
       "       [20,  8,  5]])"
      ]
     },
     "execution_count": 63,
     "metadata": {},
     "output_type": "execute_result"
    }
   ],
   "source": [
    "M[np.argmin(M,axis=0)]"
   ]
  },
  {
   "cell_type": "code",
   "execution_count": 64,
   "id": "f80eed91",
   "metadata": {},
   "outputs": [
    {
     "data": {
      "text/plain": [
       "array([0, 2])"
      ]
     },
     "execution_count": 64,
     "metadata": {},
     "output_type": "execute_result"
    }
   ],
   "source": [
    "np.argmin(M,axis=1)"
   ]
  },
  {
   "cell_type": "code",
   "execution_count": 65,
   "id": "b75fee0f",
   "metadata": {},
   "outputs": [
    {
     "data": {
      "text/plain": [
       "tensor(-3)"
      ]
     },
     "execution_count": 65,
     "metadata": {},
     "output_type": "execute_result"
    }
   ],
   "source": [
    "v=torch.tensor([1,40,2,-3])\n",
    "torch.min(v)"
   ]
  },
  {
   "cell_type": "code",
   "execution_count": 66,
   "id": "0aafa0f9",
   "metadata": {},
   "outputs": [
    {
     "data": {
      "text/plain": [
       "tensor(40)"
      ]
     },
     "execution_count": 66,
     "metadata": {},
     "output_type": "execute_result"
    }
   ],
   "source": [
    "torch.max(v)"
   ]
  },
  {
   "cell_type": "code",
   "execution_count": 67,
   "id": "ea720d90",
   "metadata": {},
   "outputs": [
    {
     "data": {
      "text/plain": [
       "tensor(3)"
      ]
     },
     "execution_count": 67,
     "metadata": {},
     "output_type": "execute_result"
    }
   ],
   "source": [
    "torch.argmin(v)"
   ]
  },
  {
   "cell_type": "code",
   "execution_count": 69,
   "id": "d07a32e1",
   "metadata": {},
   "outputs": [
    {
     "data": {
      "text/plain": [
       "tensor(40)"
      ]
     },
     "execution_count": 69,
     "metadata": {},
     "output_type": "execute_result"
    }
   ],
   "source": [
    "v[torch.argmax(v)]"
   ]
  },
  {
   "cell_type": "code",
   "execution_count": 70,
   "id": "cd243a7b",
   "metadata": {},
   "outputs": [],
   "source": [
    "M=torch.Tensor(M)"
   ]
  },
  {
   "cell_type": "code",
   "execution_count": 71,
   "id": "d1179e35",
   "metadata": {},
   "outputs": [
    {
     "data": {
      "text/plain": [
       "tensor(0.)"
      ]
     },
     "execution_count": 71,
     "metadata": {},
     "output_type": "execute_result"
    }
   ],
   "source": [
    "torch.min(M)"
   ]
  },
  {
   "cell_type": "code",
   "execution_count": 72,
   "id": "0669e590",
   "metadata": {},
   "outputs": [
    {
     "data": {
      "text/plain": [
       "torch.return_types.min(\n",
       "values=tensor([0., 1., 5.]),\n",
       "indices=tensor([0, 0, 1]))"
      ]
     },
     "execution_count": 72,
     "metadata": {},
     "output_type": "execute_result"
    }
   ],
   "source": [
    "torch.min(M,axis=0)"
   ]
  },
  {
   "cell_type": "code",
   "execution_count": 73,
   "id": "5f61b899",
   "metadata": {},
   "outputs": [
    {
     "data": {
      "text/plain": [
       "tensor([[ 0.,  1., 10.],\n",
       "        [20.,  8.,  5.]])"
      ]
     },
     "execution_count": 73,
     "metadata": {},
     "output_type": "execute_result"
    }
   ],
   "source": [
    "M"
   ]
  },
  {
   "cell_type": "code",
   "execution_count": 76,
   "id": "5fdf6f3b",
   "metadata": {},
   "outputs": [
    {
     "data": {
      "text/plain": [
       "tensor([0, 2])"
      ]
     },
     "execution_count": 76,
     "metadata": {},
     "output_type": "execute_result"
    }
   ],
   "source": [
    "torch.min(M,axis=1).indices"
   ]
  },
  {
   "cell_type": "code",
   "execution_count": 77,
   "id": "89f56d1a",
   "metadata": {},
   "outputs": [],
   "source": [
    "mini=torch.min(M,axis=1)"
   ]
  },
  {
   "cell_type": "code",
   "execution_count": 78,
   "id": "a8bb0dd0",
   "metadata": {},
   "outputs": [
    {
     "data": {
      "text/plain": [
       "<function min.count(value, /)>"
      ]
     },
     "execution_count": 78,
     "metadata": {},
     "output_type": "execute_result"
    }
   ],
   "source": [
    "mini.count"
   ]
  },
  {
   "cell_type": "code",
   "execution_count": 79,
   "id": "725279a4",
   "metadata": {},
   "outputs": [
    {
     "data": {
      "text/plain": [
       "<function min.index(value, start=0, stop=9223372036854775807, /)>"
      ]
     },
     "execution_count": 79,
     "metadata": {},
     "output_type": "execute_result"
    }
   ],
   "source": [
    "mini.index"
   ]
  },
  {
   "cell_type": "code",
   "execution_count": 80,
   "id": "066c64ed",
   "metadata": {},
   "outputs": [
    {
     "data": {
      "text/plain": [
       "2"
      ]
     },
     "execution_count": 80,
     "metadata": {},
     "output_type": "execute_result"
    }
   ],
   "source": [
    "mini.n_fields"
   ]
  },
  {
   "cell_type": "code",
   "execution_count": 81,
   "id": "18d42fd7",
   "metadata": {},
   "outputs": [
    {
     "data": {
      "text/plain": [
       "3.142857142857143"
      ]
     },
     "execution_count": 81,
     "metadata": {},
     "output_type": "execute_result"
    }
   ],
   "source": [
    "x=[1,2,4,6,5,4,0]\n",
    "np.mean(x)"
   ]
  },
  {
   "cell_type": "code",
   "execution_count": 82,
   "id": "721fbdc7",
   "metadata": {},
   "outputs": [
    {
     "data": {
      "text/plain": [
       "4.122448979591836"
      ]
     },
     "execution_count": 82,
     "metadata": {},
     "output_type": "execute_result"
    }
   ],
   "source": [
    "np.var(x)"
   ]
  },
  {
   "cell_type": "code",
   "execution_count": 83,
   "id": "82b65733",
   "metadata": {},
   "outputs": [
    {
     "data": {
      "text/plain": [
       "2.030381486221699"
      ]
     },
     "execution_count": 83,
     "metadata": {},
     "output_type": "execute_result"
    }
   ],
   "source": [
    "np.std(x)"
   ]
  },
  {
   "cell_type": "code",
   "execution_count": 84,
   "id": "9b486fe8",
   "metadata": {},
   "outputs": [
    {
     "data": {
      "text/plain": [
       "4.809523809523809"
      ]
     },
     "execution_count": 84,
     "metadata": {},
     "output_type": "execute_result"
    }
   ],
   "source": [
    "np.var(x,ddof=1)"
   ]
  },
  {
   "cell_type": "code",
   "execution_count": 86,
   "id": "42a6527b",
   "metadata": {},
   "outputs": [
    {
     "data": {
      "text/plain": [
       "2.193062655175134"
      ]
     },
     "execution_count": 86,
     "metadata": {},
     "output_type": "execute_result"
    }
   ],
   "source": [
    "np.std(x,ddof=1)"
   ]
  },
  {
   "cell_type": "code",
   "execution_count": 110,
   "id": "c572705c",
   "metadata": {},
   "outputs": [
    {
     "data": {
      "text/plain": [
       "33.41094768387684"
      ]
     },
     "execution_count": 110,
     "metadata": {},
     "output_type": "execute_result"
    }
   ],
   "source": [
    "N=100000\n",
    "x=np.random.randint(0,20,N)\n",
    "np.var(x,ddof=1)"
   ]
  },
  {
   "cell_type": "code",
   "execution_count": 90,
   "id": "1d97874a",
   "metadata": {},
   "outputs": [
    {
     "data": {
      "text/plain": [
       "33.01793879"
      ]
     },
     "execution_count": 90,
     "metadata": {},
     "output_type": "execute_result"
    }
   ],
   "source": [
    "np.var(x)"
   ]
  },
  {
   "cell_type": "code",
   "execution_count": 91,
   "id": "52f83b74",
   "metadata": {},
   "outputs": [
    {
     "data": {
      "text/plain": [
       "5.7464111334024315"
      ]
     },
     "execution_count": 91,
     "metadata": {},
     "output_type": "execute_result"
    }
   ],
   "source": [
    "np.std(x,ddof=1)"
   ]
  },
  {
   "cell_type": "code",
   "execution_count": 92,
   "id": "a5ac29cc",
   "metadata": {},
   "outputs": [
    {
     "data": {
      "text/plain": [
       "5.746123805662387"
      ]
     },
     "execution_count": 92,
     "metadata": {},
     "output_type": "execute_result"
    }
   ],
   "source": [
    "np.std(x)"
   ]
  },
  {
   "cell_type": "code",
   "execution_count": 93,
   "id": "3fb956d1",
   "metadata": {},
   "outputs": [
    {
     "data": {
      "text/plain": [
       "9.5739"
      ]
     },
     "execution_count": 93,
     "metadata": {},
     "output_type": "execute_result"
    }
   ],
   "source": [
    "np.mean(x)"
   ]
  },
  {
   "cell_type": "code",
   "execution_count": 99,
   "id": "06e7d6c6",
   "metadata": {},
   "outputs": [
    {
     "data": {
      "text/plain": [
       "8.833333333333334"
      ]
     },
     "execution_count": 99,
     "metadata": {},
     "output_type": "execute_result"
    }
   ],
   "source": [
    "sample=np.random.choice(x,30,replace=False)\n",
    "np.mean(sample)"
   ]
  },
  {
   "cell_type": "code",
   "execution_count": 111,
   "id": "40fc73ed",
   "metadata": {},
   "outputs": [],
   "source": [
    "samplemeans=np.zeros(1000)\n",
    "for i in range(1000):\n",
    "    sample=np.random.choice(x,500,replace=False)\n",
    "    samplemeans[i]=np.mean(sample)\n",
    "    "
   ]
  },
  {
   "cell_type": "code",
   "execution_count": 112,
   "id": "004838d6",
   "metadata": {},
   "outputs": [
    {
     "data": {
      "text/plain": [
       "array([ 9.724,  9.654,  9.482,  9.74 ,  9.5  ,  9.38 ,  9.51 ,  8.958,\n",
       "        9.526,  9.314,  9.742,  9.712,  9.576,  9.786,  9.446,  9.342,\n",
       "        8.984, 10.112,  9.794,  9.63 ,  9.082,  9.808,  9.574,  9.372,\n",
       "        9.37 ,  9.764,  9.36 ,  9.238,  9.238,  9.13 ,  9.398,  9.438,\n",
       "        9.144,  9.53 ,  9.096,  9.622,  9.144,  9.336,  9.844,  8.794,\n",
       "        9.9  ,  9.856,  9.32 ,  9.78 ,  9.236,  9.514,  9.544,  9.372,\n",
       "        9.828, 10.02 , 10.14 ,  9.198,  9.888,  9.006,  9.588,  9.682,\n",
       "        9.034,  9.3  ,  9.48 ,  9.844,  9.28 ,  9.082,  9.37 ,  9.746,\n",
       "        9.584,  9.722,  9.36 ,  9.472, 10.028,  9.746,  9.734,  9.33 ,\n",
       "        9.322,  9.644,  9.34 ,  9.754,  9.246,  9.524,  9.462,  9.326,\n",
       "        9.472,  9.622,  9.398,  9.832,  9.574,  9.348,  9.814,  9.4  ,\n",
       "        9.75 ,  9.596,  9.882,  9.018,  9.562,  9.33 ,  9.332,  9.896,\n",
       "        9.554,  9.326,  9.54 ,  9.388,  9.508,  9.582,  9.044,  9.372,\n",
       "        9.202,  9.474,  9.394,  9.316,  9.604,  9.67 ,  9.438,  9.55 ,\n",
       "        9.598,  9.928,  9.318,  9.134,  9.478,  9.206, 10.008,  9.02 ,\n",
       "        9.56 ,  9.278,  9.66 ,  9.74 ,  9.296,  8.976,  9.42 ,  9.636,\n",
       "        9.558,  9.536, 10.276,  9.516,  9.588,  9.098,  9.56 ,  9.778,\n",
       "        9.408,  9.548,  9.334,  9.758,  9.896,  9.744,  9.408,  9.794,\n",
       "        8.974,  9.438,  9.854,  9.294,  9.736,  9.442,  9.588,  9.448,\n",
       "        9.536, 10.028,  9.734, 10.156,  9.826,  9.21 ,  9.618,  9.482,\n",
       "        9.498,  9.274,  9.858,  9.438,  9.598,  9.286,  9.27 ,  9.566,\n",
       "        9.492,  9.174,  9.882,  9.87 ,  9.658,  9.55 ,  9.668,  9.528,\n",
       "        9.358,  9.298,  9.496,  9.58 ,  9.582,  9.632,  9.588,  9.406,\n",
       "        9.812,  9.688,  9.48 ,  9.642,  9.358,  9.61 ,  9.168,  9.298,\n",
       "        9.598,  9.392,  9.632,  9.642,  9.202,  9.746, 10.13 ,  9.594,\n",
       "        9.846,  9.99 ,  9.628,  9.5  ,  9.192,  9.524,  9.296,  9.292,\n",
       "        9.814,  9.766,  9.57 ,  9.83 ,  9.986,  9.576,  9.184,  9.118,\n",
       "        9.33 ,  9.606,  9.01 ,  9.474,  9.54 ,  9.438,  9.142,  9.74 ,\n",
       "        9.27 ,  9.644,  9.554,  9.482,  9.578,  9.71 ,  8.974,  9.606,\n",
       "       10.02 ,  9.69 ,  9.612,  9.644,  9.25 ,  9.816,  9.92 ,  9.596,\n",
       "        9.628,  9.352,  9.408,  8.862,  9.892,  9.962,  9.504,  9.712,\n",
       "        9.754,  9.544,  9.576,  9.816,  9.264,  9.522,  9.56 ,  9.378,\n",
       "        9.834,  9.802,  9.528,  9.554,  9.998,  9.352, 10.02 ,  9.928,\n",
       "        9.576,  9.342,  9.66 ,  9.646,  9.578,  9.428,  9.788,  9.346,\n",
       "        9.728,  9.544,  9.364,  9.432,  9.95 ,  9.892,  9.804,  9.446,\n",
       "        9.904,  9.344,  9.522,  9.506,  9.82 ,  9.264, 10.068,  9.814,\n",
       "        9.598,  9.532,  9.996,  9.428,  9.466,  9.098,  9.588,  9.612,\n",
       "        9.242,  9.52 ,  9.7  ,  9.748,  9.874,  9.802,  9.322,  9.468,\n",
       "        9.57 ,  9.552,  9.622,  9.732,  9.238,  9.698,  9.174,  9.504,\n",
       "        9.12 , 10.03 ,  9.912,  9.668,  9.424,  9.334,  9.106,  9.462,\n",
       "        9.406,  9.562,  9.64 ,  9.768,  9.488,  9.382,  9.04 ,  9.418,\n",
       "        9.354,  9.652,  9.636,  9.238,  9.824,  9.54 ,  9.758,  9.492,\n",
       "        9.158,  9.032,  9.314,  9.2  ,  9.796,  9.106,  9.786,  9.798,\n",
       "       10.01 ,  9.664,  9.052,  9.268,  9.62 ,  9.734,  9.286,  9.322,\n",
       "        9.304,  9.624,  9.738,  9.53 ,  9.55 ,  9.752,  9.692,  9.694,\n",
       "        9.56 ,  9.2  ,  9.884,  9.224,  9.356,  9.488,  9.344,  9.742,\n",
       "        9.516,  9.198,  9.518,  9.77 ,  9.324,  9.436,  9.716,  9.084,\n",
       "        9.214,  9.286,  9.45 ,  9.378,  9.538,  9.75 ,  9.386,  9.656,\n",
       "        9.976,  9.834,  9.068,  9.364,  9.53 ,  9.182,  9.498,  9.726,\n",
       "        9.666,  9.838,  9.662,  9.442,  9.362,  9.422,  9.158,  9.638,\n",
       "        9.504,  9.274,  9.838,  9.362,  9.06 ,  9.39 ,  9.748,  9.08 ,\n",
       "        9.718,  9.606,  9.79 ,  9.372,  9.732,  9.906, 10.02 ,  9.484,\n",
       "        9.75 ,  9.378,  9.442,  9.674,  9.488,  9.532,  9.876,  9.48 ,\n",
       "        9.372,  9.488,  9.55 ,  9.552,  9.262,  9.11 ,  9.228,  9.196,\n",
       "        9.192,  9.634,  9.106,  9.448,  9.666,  9.122,  9.884,  9.226,\n",
       "        9.484,  9.514,  9.84 ,  9.078,  9.332,  9.796,  9.314,  9.346,\n",
       "        9.572,  9.422,  9.19 ,  9.13 ,  9.176,  9.466,  9.734,  9.046,\n",
       "        9.298,  9.502,  9.428,  9.714,  9.628,  9.438,  9.358,  9.868,\n",
       "        9.656,  9.396,  9.316,  9.134,  9.794,  9.682,  9.056,  9.744,\n",
       "        9.736,  9.414,  9.516,  9.622,  9.942, 10.056,  9.156,  9.622,\n",
       "       10.27 ,  9.068,  9.464,  9.434,  9.552,  9.668,  9.23 ,  9.594,\n",
       "        9.648,  9.638,  9.53 ,  9.906,  9.716,  9.73 ,  9.448,  9.308,\n",
       "        9.204,  9.708,  9.792,  9.76 ,  9.64 ,  9.748,  9.262,  9.37 ,\n",
       "        9.436, 10.076,  9.388,  9.564,  9.198,  9.762,  9.07 ,  9.69 ,\n",
       "        9.524,  9.324,  9.612,  9.42 ,  9.32 ,  9.5  ,  9.366,  9.416,\n",
       "        9.468, 10.11 ,  9.366,  9.956,  9.826,  9.182,  9.228, 10.126,\n",
       "        9.796,  9.206,  9.088,  9.294,  9.278,  9.51 ,  9.908,  9.244,\n",
       "        9.842,  9.56 ,  9.484,  9.606,  9.688,  9.892,  9.552,  9.57 ,\n",
       "        9.556,  9.238,  9.152,  9.242,  9.642,  9.446,  9.322,  9.216,\n",
       "        9.39 ,  9.464, 10.004,  9.572,  9.766,  9.426,  9.526,  9.616,\n",
       "        9.138,  9.514,  9.226,  9.58 ,  9.172,  9.112,  9.548,  9.416,\n",
       "        9.634,  9.786,  9.46 ,  9.276,  9.448,  9.104,  9.466,  9.674,\n",
       "        9.796,  9.306,  9.586,  9.752,  9.7  ,  9.594,  9.548,  9.4  ,\n",
       "        9.788,  8.726,  9.354,  9.576,  9.826,  9.48 ,  9.766,  9.534,\n",
       "        9.34 ,  9.35 ,  9.436,  9.694,  9.732,  9.714,  9.602,  9.514,\n",
       "        9.624,  9.78 ,  9.518,  9.104,  9.358,  9.744,  9.658,  9.832,\n",
       "        9.536,  9.622,  9.882,  9.624,  9.568,  9.448,  9.586,  9.868,\n",
       "        9.38 ,  9.176,  9.178,  9.668,  9.766,  9.802,  8.924,  8.928,\n",
       "        9.4  ,  9.462,  9.48 ,  8.906,  9.68 ,  9.772,  9.622,  9.472,\n",
       "        9.162,  9.876,  9.394,  9.126,  9.83 ,  9.596,  9.398,  9.728,\n",
       "        9.36 ,  9.322,  9.178,  9.786,  9.888,  9.68 ,  9.116,  9.554,\n",
       "        9.624,  9.31 ,  9.416,  8.954,  9.724,  9.378,  9.834,  9.906,\n",
       "        9.196,  9.966,  9.674,  9.412,  9.554,  9.304,  9.236, 10.038,\n",
       "        9.244,  9.414,  9.504,  9.86 ,  9.832,  9.852,  9.552,  9.546,\n",
       "        9.614,  9.52 , 10.208,  9.838,  9.69 ,  9.596,  9.76 ,  9.614,\n",
       "        9.858,  9.32 ,  9.608,  9.132,  9.566,  9.052,  9.546,  9.592,\n",
       "        9.446,  9.798,  9.49 ,  9.288,  9.59 ,  9.298,  9.416,  9.428,\n",
       "        9.284,  9.272,  9.822,  9.6  ,  9.616,  9.096,  9.802,  9.824,\n",
       "        9.748,  9.46 ,  9.766,  9.574,  9.55 ,  9.63 ,  9.43 ,  9.226,\n",
       "        9.556,  9.592,  9.444,  9.498,  9.538,  9.712,  9.83 ,  9.73 ,\n",
       "        9.164,  9.534,  9.036,  9.84 ,  9.832,  9.186,  9.534,  9.53 ,\n",
       "        8.884,  9.81 ,  9.76 ,  9.07 ,  9.786,  9.976,  9.578,  9.61 ,\n",
       "       10.132,  9.738,  9.536,  8.956,  9.446,  9.756,  9.382,  9.496,\n",
       "        9.414,  9.318,  9.37 ,  9.446,  9.714,  9.332,  9.336,  9.43 ,\n",
       "        9.944,  8.306,  9.676,  9.736,  9.57 ,  9.748,  9.4  ,  9.648,\n",
       "        9.242,  9.46 ,  9.538,  9.204,  9.426,  9.274,  9.38 ,  9.786,\n",
       "        9.222,  9.72 ,  9.458,  9.686,  9.642, 10.07 ,  9.124,  9.466,\n",
       "        9.504,  9.636,  9.132,  8.972,  9.41 ,  9.372,  9.508,  9.604,\n",
       "        9.512,  9.218,  9.562,  9.46 ,  9.39 ,  9.044,  9.686, 10.228,\n",
       "        9.434,  9.426, 10.258,  9.674,  9.376,  9.802,  9.566,  9.424,\n",
       "        9.542,  9.488,  9.698,  9.688,  9.89 ,  9.746,  9.608,  9.574,\n",
       "       10.204,  9.864,  9.84 ,  9.614,  9.558,  9.716, 10.018,  9.57 ,\n",
       "        9.594,  9.57 ,  9.426,  9.122,  9.478,  9.498,  9.398,  9.224,\n",
       "        9.486,  9.276,  9.532,  9.838,  9.716,  9.602,  9.578,  9.562,\n",
       "        9.374,  9.25 ,  9.236,  9.566,  9.644,  9.916,  9.598,  9.412,\n",
       "        9.11 ,  9.422,  9.456,  9.516,  9.15 ,  9.636, 10.074,  9.58 ,\n",
       "        9.598,  9.144,  9.71 ,  9.356,  9.514,  9.514,  9.462,  9.65 ,\n",
       "        9.248,  9.386,  9.276,  9.124,  9.32 ,  9.464,  9.524,  9.676,\n",
       "        9.384,  9.672,  8.916,  9.45 ,  9.174,  9.494,  9.744,  9.94 ,\n",
       "        9.268,  9.142,  9.914,  9.492,  9.282,  9.572,  9.326,  9.59 ,\n",
       "        9.328,  9.64 ,  9.548,  9.57 ,  9.816,  9.62 , 10.122,  9.59 ,\n",
       "        9.656,  9.508,  9.518,  9.58 ,  9.322,  9.424,  9.026,  9.356,\n",
       "        9.896,  9.754,  9.77 ,  9.61 ,  9.826,  9.358,  9.612,  9.672,\n",
       "        9.428,  9.388,  9.714,  8.962,  9.524,  9.402,  9.336,  9.646,\n",
       "        9.926,  9.432,  9.404,  9.688,  9.324,  9.32 ,  9.486,  9.536,\n",
       "        9.29 ,  9.878,  9.454,  9.542,  9.19 ,  9.784,  9.582,  9.484,\n",
       "        9.656,  9.914, 10.07 ,  9.152,  9.56 ,  9.18 ,  9.602,  9.668,\n",
       "        9.174,  9.542,  9.668,  9.556,  8.868,  9.936,  9.554,  9.07 ,\n",
       "        9.282,  9.572,  9.588,  9.882,  9.466,  9.26 ,  9.552,  9.676,\n",
       "        9.692,  9.282,  8.932,  9.542,  9.846,  9.788,  9.552,  9.488,\n",
       "        9.71 ,  9.688,  9.642,  9.974,  9.144,  9.554,  9.074,  9.57 ,\n",
       "        9.7  ,  9.684,  9.644,  9.86 ,  9.788,  9.478,  9.686,  9.276,\n",
       "        9.004,  9.826,  9.674,  9.714,  9.808,  9.376,  9.526,  9.596,\n",
       "        9.468,  9.548,  9.354,  9.878,  9.832,  9.314,  9.778,  9.698,\n",
       "        9.368,  9.828,  9.714,  9.334,  9.566,  9.804,  9.728,  9.434])"
      ]
     },
     "execution_count": 112,
     "metadata": {},
     "output_type": "execute_result"
    }
   ],
   "source": [
    "samplemeans"
   ]
  },
  {
   "cell_type": "code",
   "execution_count": 113,
   "id": "9869aa1e",
   "metadata": {},
   "outputs": [
    {
     "data": {
      "text/plain": [
       "9.525262000000001"
      ]
     },
     "execution_count": 113,
     "metadata": {},
     "output_type": "execute_result"
    }
   ],
   "source": [
    "np.mean(samplemeans)"
   ]
  },
  {
   "cell_type": "code",
   "execution_count": 114,
   "id": "6b3daa35",
   "metadata": {},
   "outputs": [
    {
     "data": {
      "text/plain": [
       "9.52016"
      ]
     },
     "execution_count": 114,
     "metadata": {},
     "output_type": "execute_result"
    }
   ],
   "source": [
    "np.mean(x)"
   ]
  },
  {
   "cell_type": "code",
   "execution_count": 117,
   "id": "9ab466e9",
   "metadata": {},
   "outputs": [
    {
     "data": {
      "text/plain": [
       "[<matplotlib.lines.Line2D at 0x7f069625c8e0>]"
      ]
     },
     "execution_count": 117,
     "metadata": {},
     "output_type": "execute_result"
    },
    {
     "data": {
      "image/png": "[encoded data removed]",
      "text/plain": [
       "<Figure size 640x480 with 1 Axes>"
      ]
     },
     "metadata": {},
     "output_type": "display_data"
    }
   ],
   "source": [
    "plt.hist(samplemeans,bins='fd')\n",
    "plt.plot([np.mean(x),np.mean(x)],[0,130],'--')\n"
   ]
  },
  {
   "cell_type": "code",
   "execution_count": 119,
   "id": "40c6295b",
   "metadata": {},
   "outputs": [
    {
     "data": {
      "text/plain": [
       "array([ 0.93890089, -1.94106464,  1.94663339,  1.29710213, -2.67930179])"
      ]
     },
     "execution_count": 119,
     "metadata": {},
     "output_type": "execute_result"
    }
   ],
   "source": [
    "np.random.randn(5)"
   ]
  },
  {
   "cell_type": "code",
   "execution_count": 120,
   "id": "0e56b914",
   "metadata": {},
   "outputs": [],
   "source": [
    "np.random.seed(17)"
   ]
  },
  {
   "cell_type": "code",
   "execution_count": 123,
   "id": "df0c72ff",
   "metadata": {},
   "outputs": [
    {
     "data": {
      "text/plain": [
       "array([ 2.171257  ,  1.15231025, -1.81881234, -0.13804934,  0.53983961])"
      ]
     },
     "execution_count": 123,
     "metadata": {},
     "output_type": "execute_result"
    }
   ],
   "source": [
    "np.random.randn(5)"
   ]
  },
  {
   "cell_type": "code",
   "execution_count": 122,
   "id": "e44d4108",
   "metadata": {},
   "outputs": [
    {
     "data": {
      "text/plain": [
       "array([ 1.88663893, -0.11169829, -0.36210134,  0.14867505, -0.43778315])"
      ]
     },
     "execution_count": 122,
     "metadata": {},
     "output_type": "execute_result"
    }
   ],
   "source": [
    "np.random.randn(5)"
   ]
  },
  {
   "cell_type": "code",
   "execution_count": 126,
   "id": "1727a091",
   "metadata": {},
   "outputs": [
    {
     "name": "stdout",
     "output_type": "stream",
     "text": [
      "[2.70684984 0.62813271 0.90796945 0.50382575 0.65111795]\n",
      "[-0.31931804 -0.84807698  0.60596535 -2.01816824  0.74012206]\n"
     ]
    }
   ],
   "source": [
    "np.random.seed(101)\n",
    "print(np.random.randn(5))\n",
    "print(np.random.randn(5))\n",
    "# [2.70684984 0.62813271 0.90796945 0.50382575 0.65111795]\n",
    "# [-0.31931804 -0.84807698  0.60596535 -2.01816824  0.74012206]\n"
   ]
  },
  {
   "cell_type": "code",
   "execution_count": 129,
   "id": "9d4155ac",
   "metadata": {},
   "outputs": [
    {
     "name": "stdout",
     "output_type": "stream",
     "text": [
      "[2.70684984 0.62813271 0.90796945 0.50382575 0.65111795]\n",
      "[ 0.49671415 -0.1382643   0.64768854  1.52302986 -0.23415337]\n",
      "[-0.31931804 -0.84807698  0.60596535 -2.01816824  0.74012206]\n",
      "[-0.23413696  1.57921282  0.76743473 -0.46947439  0.54256004]\n"
     ]
    }
   ],
   "source": [
    "randseed1=np.random.RandomState(101)\n",
    "randseed2=np.random.RandomState(42)\n",
    "print(randseed1.randn(5))\n",
    "print(randseed2.randn(5))\n",
    "print(randseed1.randn(5))\n",
    "print(randseed2.randn(5))\n",
    "# [2.70684984 0.62813271 0.90796945 0.50382575 0.65111795]\n",
    "# [ 0.49671415 -0.1382643   0.64768854  1.52302986 -0.23415337]\n",
    "# [-0.31931804 -0.84807698  0.60596535 -2.01816824  0.74012206]\n",
    "# [-0.23413696  1.57921282  0.76743473 -0.46947439  0.54256004]\n",
    "\n"
   ]
  },
  {
   "cell_type": "code",
   "execution_count": 130,
   "id": "e4ac4d65",
   "metadata": {},
   "outputs": [
    {
     "data": {
      "text/plain": [
       "tensor([ 0.2960, -1.0480, -1.6784, -1.5443, -1.6887])"
      ]
     },
     "execution_count": 130,
     "metadata": {},
     "output_type": "execute_result"
    }
   ],
   "source": [
    "torch.randn(5)"
   ]
  },
  {
   "cell_type": "code",
   "execution_count": 134,
   "id": "7cf97e03",
   "metadata": {},
   "outputs": [
    {
     "name": "stdout",
     "output_type": "stream",
     "text": [
      "tensor([-1.3905, -0.8152, -0.3204,  0.7377, -1.7534])\n",
      "[0.39052784 0.16690464 0.18450186 0.80770591 0.07295968]\n"
     ]
    }
   ],
   "source": [
    "torch.manual_seed(101)\n",
    "print(torch.randn(5))\n",
    "print(np.random.randn(5))"
   ]
  },
  {
   "cell_type": "code",
   "execution_count": 135,
   "id": "aa7a2035",
   "metadata": {},
   "outputs": [],
   "source": [
    "import scipy.stats as stats"
   ]
  },
  {
   "cell_type": "code",
   "execution_count": 140,
   "id": "b0a7ed34",
   "metadata": {},
   "outputs": [
    {
     "data": {
      "text/plain": [
       "([<matplotlib.axis.XTick at 0x7f06961b6e90>,\n",
       "  <matplotlib.axis.XTick at 0x7f06961b6ec0>],\n",
       " [Text(0, 0, 'group1'), Text(1, 0, 'group2')])"
      ]
     },
     "execution_count": 140,
     "metadata": {},
     "output_type": "execute_result"
    },
    {
     "data": {
      "image/png": "[encoded data removed]",
      "text/plain": [
       "<Figure size 640x480 with 1 Axes>"
      ]
     },
     "metadata": {},
     "output_type": "display_data"
    }
   ],
   "source": [
    "n1=30\n",
    "n2=40\n",
    "mu1=1\n",
    "mu2=2\n",
    "data1=mu1 + np.random.randn(n1)\n",
    "data2=mu2 + np.random.randn(n2)\n",
    "plt.plot(np.zeros(n1),data1,'ro',markerfacecolor='w',markersize=14)\n",
    "plt.plot(np.ones(n2),data2,'bs',markerfacecolor='w',markersize=14)\n",
    "plt.xticks([0,1],labels=['group1','group2'])"
   ]
  },
  {
   "cell_type": "code",
   "execution_count": 141,
   "id": "d2f7d679",
   "metadata": {},
   "outputs": [
    {
     "name": "stdout",
     "output_type": "stream",
     "text": [
      "-4.195992076243776 8.058033803519213e-05\n"
     ]
    }
   ],
   "source": [
    "t,p=stats.ttest_ind(data1,data2)\n",
    "print(t,p)"
   ]
  },
  {
   "cell_type": "code",
   "execution_count": 144,
   "id": "7812feea",
   "metadata": {},
   "outputs": [
    {
     "data": {
      "text/plain": [
       "Text(0.5, 1.0, 'the t_value :-4.20, the p_value:0.00008')"
      ]
     },
     "execution_count": 144,
     "metadata": {},
     "output_type": "execute_result"
    },
    {
     "data": {
      "image/png": "[encoded data removed]",
      "text/plain": [
       "<Figure size 640x480 with 1 Axes>"
      ]
     },
     "metadata": {},
     "output_type": "display_data"
    }
   ],
   "source": [
    "plt.plot(0+np.random.randn(n1)/15,data1,'ro',markerfacecolor='w')\n",
    "plt.plot(1+np.random.randn(n2)/15,data2,'bs',markerfacecolor='w')\n",
    "plt.xticks([0,1],labels=['group1','group2'])\n",
    "plt.title(f'the t_value :{t:.2f}, the p_value:{p:.5f}')"
   ]
  },
  {
   "cell_type": "code",
   "execution_count": 145,
   "id": "eb589f07",
   "metadata": {},
   "outputs": [],
   "source": [
    "import sympy as sym\n",
    "import sympy.plotting.plot as symplot"
   ]
  },
  {
   "cell_type": "code",
   "execution_count": 147,
   "id": "74c7b85c",
   "metadata": {},
   "outputs": [
    {
     "name": "stdout",
     "output_type": "stream",
     "text": [
      "2*x**2\n",
      "4*x\n"
     ]
    }
   ],
   "source": [
    "x=sym.symbols('x')\n",
    "fx=2*x**2\n",
    "df=sym.diff(fx,x)\n",
    "print(fx)\n",
    "print(df)"
   ]
  },
  {
   "cell_type": "code",
   "execution_count": 148,
   "id": "39e7d4d1",
   "metadata": {},
   "outputs": [
    {
     "data": {
      "image/png": "[encoded data removed]",
      "text/plain": [
       "<Figure size 640x480 with 1 Axes>"
      ]
     },
     "metadata": {},
     "output_type": "display_data"
    },
    {
     "data": {
      "image/png": "[encoded data removed]",
      "text/plain": [
       "<Figure size 640x480 with 1 Axes>"
      ]
     },
     "metadata": {},
     "output_type": "display_data"
    }
   ],
   "source": [
    "symplot(fx,(x,-4,4),title='the function')\n",
    "plt.show()\n",
    "symplot(df,(x,-4,4),title=\" it's dericative\")\n",
    "plt.show()\n"
   ]
  },
  {
   "cell_type": "code",
   "execution_count": 149,
   "id": "cf3db801",
   "metadata": {},
   "outputs": [
    {
     "data": {
      "image/png": "[encoded data removed]",
      "text/plain": [
       "<Figure size 640x480 with 1 Axes>"
      ]
     },
     "metadata": {},
     "output_type": "display_data"
    }
   ],
   "source": [
    "relu=sym.Max(0,x)\n",
    "sigmoid=1/(1+sym.exp(-x))\n",
    "p=symplot(relu,(x,-4,4),label='ReLU',show=False,line_color='blue')\n",
    "p.extend(symplot(sigmoid,(x,-4,4),label='Sigmoid',show=False,line_color='red'))\n",
    "p.legend=True\n",
    "p.title='the functions'\n",
    "p.show()"
   ]
  },
  {
   "cell_type": "code",
   "execution_count": 150,
   "id": "1a6d8142",
   "metadata": {},
   "outputs": [
    {
     "data": {
      "image/png": "[encoded data removed]",
      "text/plain": [
       "<Figure size 640x480 with 1 Axes>"
      ]
     },
     "metadata": {},
     "output_type": "display_data"
    }
   ],
   "source": [
    "p=symplot(sym.diff(relu),(x,-4,4),label='df(ReLU)',show=False,line_color='blue')\n",
    "p.extend(symplot(sym.diff(sigmoid),(x,-4,4),label='df(Sigmoid)',show=False,line_color='red'))\n",
    "p.legend=True\n",
    "p.title='the  derivative of the functions'\n",
    "p.show()"
   ]
  },
  {
   "cell_type": "code",
   "execution_count": 151,
   "id": "a29cb0d8",
   "metadata": {},
   "outputs": [],
   "source": [
    "from IPython.display import display"
   ]
  },
  {
   "cell_type": "code",
   "execution_count": 153,
   "id": "16c102aa",
   "metadata": {},
   "outputs": [
    {
     "name": "stdout",
     "output_type": "stream",
     "text": [
      " the functions:\n"
     ]
    },
    {
     "data": {
      "text/latex": [
       "$\\displaystyle 2 x^{2}$"
      ],
      "text/plain": [
       "2*x**2"
      ]
     },
     "metadata": {},
     "output_type": "display_data"
    },
    {
     "data": {
      "text/latex": [
       "$\\displaystyle - 3 x^{4} + 4 x^{3}$"
      ],
      "text/plain": [
       "-3*x**4 + 4*x**3"
      ]
     },
     "metadata": {},
     "output_type": "display_data"
    },
    {
     "name": "stdout",
     "output_type": "stream",
     "text": [
      "\n",
      "the derivatives: \n"
     ]
    },
    {
     "data": {
      "text/latex": [
       "$\\displaystyle 4 x$"
      ],
      "text/plain": [
       "4*x"
      ]
     },
     "metadata": {},
     "output_type": "display_data"
    },
    {
     "data": {
      "text/latex": [
       "$\\displaystyle - 12 x^{3} + 12 x^{2}$"
      ],
      "text/plain": [
       "-12*x**3 + 12*x**2"
      ]
     },
     "metadata": {},
     "output_type": "display_data"
    },
    {
     "name": "stdout",
     "output_type": "stream",
     "text": [
      "\n",
      "the manual product rule:\n"
     ]
    },
    {
     "data": {
      "text/latex": [
       "$\\displaystyle 2 x^{2} \\left(- 12 x^{3} + 12 x^{2}\\right) + 4 x \\left(- 3 x^{4} + 4 x^{3}\\right)$"
      ],
      "text/plain": [
       "2*x**2*(-12*x**3 + 12*x**2) + 4*x*(-3*x**4 + 4*x**3)"
      ]
     },
     "metadata": {},
     "output_type": "display_data"
    },
    {
     "name": "stdout",
     "output_type": "stream",
     "text": [
      "\n",
      "via sympy:\n"
     ]
    },
    {
     "data": {
      "text/latex": [
       "$\\displaystyle 2 x^{2} \\left(- 12 x^{3} + 12 x^{2}\\right) + 4 x \\left(- 3 x^{4} + 4 x^{3}\\right)$"
      ],
      "text/plain": [
       "2*x**2*(-12*x**3 + 12*x**2) + 4*x*(-3*x**4 + 4*x**3)"
      ]
     },
     "metadata": {},
     "output_type": "display_data"
    }
   ],
   "source": [
    "gx=4*x**3 - 3*x**4\n",
    "df=sym.diff(fx)\n",
    "dg=sym.diff(gx)\n",
    "manual=df*gx + fx*dg\n",
    "viasym=sym.diff(fx*gx)\n",
    "print(' the functions:')\n",
    "display(fx)\n",
    "display(gx)\n",
    "print()\n",
    "print('the derivatives: ')\n",
    "display(df)\n",
    "display(dg)\n",
    "print()\n",
    "print('the manual product rule:')\n",
    "display(manual)\n",
    "print()\n",
    "print('via sympy:')\n",
    "display(viasym)"
   ]
  },
  {
   "cell_type": "code",
   "execution_count": 154,
   "id": "3ed7bc26",
   "metadata": {},
   "outputs": [
    {
     "name": "stdout",
     "output_type": "stream",
     "text": [
      "the function:\n"
     ]
    },
    {
     "data": {
      "text/latex": [
       "$\\displaystyle \\left(4 x^{3} + x^{2}\\right)^{5}$"
      ],
      "text/plain": [
       "(4*x**3 + x**2)**5"
      ]
     },
     "metadata": {},
     "output_type": "display_data"
    },
    {
     "name": "stdout",
     "output_type": "stream",
     "text": [
      "\n",
      " it's derivative:\n"
     ]
    },
    {
     "data": {
      "text/latex": [
       "$\\displaystyle \\left(60 x^{2} + 10 x\\right) \\left(4 x^{3} + x^{2}\\right)^{4}$"
      ],
      "text/plain": [
       "(60*x**2 + 10*x)*(4*x**3 + x**2)**4"
      ]
     },
     "metadata": {},
     "output_type": "display_data"
    }
   ],
   "source": [
    "fx=(x**2 + 4*x**3)**5\n",
    "print('the function:')\n",
    "display(fx)\n",
    "print()\n",
    "print(\" it's derivative:\")\n",
    "display(sym.diff(fx))"
   ]
  },
  {
   "cell_type": "code",
   "execution_count": null,
   "id": "2f26d38b",
   "metadata": {},
   "outputs": [],
   "source": []
  }
 ],
 "metadata": {
  "kernelspec": {
   "display_name": "Python 3 (ipykernel)",
   "language": "python",
   "name": "python3"
  },
  "language_info": {
   "codemirror_mode": {
    "name": "ipython",
    "version": 3
   },
   "file_extension": ".py",
   "mimetype": "text/x-python",
   "name": "python",
   "nbconvert_exporter": "python",
   "pygments_lexer": "ipython3",
   "version": "3.10.6"
  }
 },
 "nbformat": 4,
 "nbformat_minor": 5
}
