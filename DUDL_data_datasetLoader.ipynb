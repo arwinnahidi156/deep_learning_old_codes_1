{
 "cells": [
  {
   "cell_type": "code",
   "execution_count": 2,
   "id": "7054911d",
   "metadata": {},
   "outputs": [],
   "source": [
    "import numpy as np\n",
    "import torch\n",
    "from torch.utils.data import DataLoader,TensorDataset\n",
    "   "
   ]
  },
  {
   "cell_type": "code",
   "execution_count": 2,
   "id": "8f27f562",
   "metadata": {},
   "outputs": [],
   "source": [
    "nObservation=100\n",
    "nFeatures=20\n",
    "data=np.random.randn(nObservation,nFeatures)"
   ]
  },
  {
   "cell_type": "code",
   "execution_count": null,
   "metadata": {},
   "outputs": [],
   "source": []
  },
  {
   "cell_type": "code",
   "execution_count": 4,
   "id": "283b3b1a",
   "metadata": {},
   "outputs": [
    {
     "name": "stdout",
     "output_type": "stream",
     "text": [
      "Numpy data: \n",
      "<class 'numpy.ndarray'>\n",
      "(100, 20)\n",
      "float64\n",
      " \n",
      "Tensor data: \n",
      "<class 'torch.Tensor'>\n",
      "torch.Size([100, 20])\n",
      "torch.float64\n",
      " \n"
     ]
    }
   ],
   "source": [
    "dataT=torch.tensor(data)\n",
    "print('Numpy data: ')\n",
    "print(type(data))\n",
    "print(data.shape)\n",
    "print(data.dtype)\n",
    "print(\" \")\n",
    "print('Tensor data: ')\n",
    "print(type(dataT))\n",
    "print(dataT.size())\n",
    "print(dataT.dtype)\n",
    "print(\" \")\n"
   ]
  },
  {
   "cell_type": "code",
   "execution_count": 5,
   "id": "c971cff3",
   "metadata": {},
   "outputs": [
    {
     "name": "stdout",
     "output_type": "stream",
     "text": [
      "torch.float32\n",
      "torch.int64\n"
     ]
    }
   ],
   "source": [
    "dataT2=torch.tensor(data).float()\n",
    "print(dataT2.dtype)\n",
    "dataT3=torch.tensor(data).long()\n",
    "print(dataT3.dtype)\n"
   ]
  },
  {
   "cell_type": "code",
   "execution_count": 6,
   "id": "ac8aa987",
   "metadata": {},
   "outputs": [
    {
     "data": {
      "text/plain": [
       "array([[ 2.13724249, -0.98929274, -1.59988395, ..., -0.17677822,\n",
       "        -0.61371412, -0.48291322],\n",
       "       [-0.34684815,  0.09451618,  0.94262529, ...,  0.89454348,\n",
       "         1.10683191, -0.84756276],\n",
       "       [-1.03116522,  1.30715015, -0.541918  , ..., -2.41950613,\n",
       "        -0.6311794 ,  1.35544213],\n",
       "       ...,\n",
       "       [ 0.17528659, -1.00400465, -0.05493022, ..., -0.03029377,\n",
       "         1.02614443,  0.29324848],\n",
       "       [ 0.45237871,  0.1104014 ,  0.84256392, ..., -0.05447679,\n",
       "        -1.61277477,  1.27523231],\n",
       "       [-0.15781519,  0.99090453, -0.02633614, ...,  0.12683635,\n",
       "        -0.13239377, -1.26673758]])"
      ]
     },
     "execution_count": 6,
     "metadata": {},
     "output_type": "execute_result"
    }
   ],
   "source": [
    "data"
   ]
  },
  {
   "cell_type": "code",
   "execution_count": 7,
   "id": "681f9b72",
   "metadata": {},
   "outputs": [
    {
     "data": {
      "text/plain": [
       "tensor([[ 2.1372, -0.9893, -1.5999,  ..., -0.1768, -0.6137, -0.4829],\n",
       "        [-0.3468,  0.0945,  0.9426,  ...,  0.8945,  1.1068, -0.8476],\n",
       "        [-1.0312,  1.3072, -0.5419,  ..., -2.4195, -0.6312,  1.3554],\n",
       "        ...,\n",
       "        [ 0.1753, -1.0040, -0.0549,  ..., -0.0303,  1.0261,  0.2932],\n",
       "        [ 0.4524,  0.1104,  0.8426,  ..., -0.0545, -1.6128,  1.2752],\n",
       "        [-0.1578,  0.9909, -0.0263,  ...,  0.1268, -0.1324, -1.2667]])"
      ]
     },
     "execution_count": 7,
     "metadata": {},
     "output_type": "execute_result"
    }
   ],
   "source": [
    "dataT2"
   ]
  },
  {
   "cell_type": "code",
   "execution_count": 8,
   "id": "34d6e6f6",
   "metadata": {},
   "outputs": [
    {
     "data": {
      "text/plain": [
       "tensor([[ 2,  0, -1,  ...,  0,  0,  0],\n",
       "        [ 0,  0,  0,  ...,  0,  1,  0],\n",
       "        [-1,  1,  0,  ..., -2,  0,  1],\n",
       "        ...,\n",
       "        [ 0, -1,  0,  ...,  0,  1,  0],\n",
       "        [ 0,  0,  0,  ...,  0, -1,  1],\n",
       "        [ 0,  0,  0,  ...,  0,  0, -1]])"
      ]
     },
     "execution_count": 8,
     "metadata": {},
     "output_type": "execute_result"
    }
   ],
   "source": [
    "dataT3"
   ]
  },
  {
   "cell_type": "code",
   "execution_count": 13,
   "id": "158996ca",
   "metadata": {},
   "outputs": [
    {
     "data": {
      "text/plain": [
       "(tensor([[ 2.1372, -0.9893, -1.5999,  ..., -0.1768, -0.6137, -0.4829],\n",
       "         [-0.3468,  0.0945,  0.9426,  ...,  0.8945,  1.1068, -0.8476],\n",
       "         [-1.0312,  1.3072, -0.5419,  ..., -2.4195, -0.6312,  1.3554],\n",
       "         ...,\n",
       "         [ 0.1753, -1.0040, -0.0549,  ..., -0.0303,  1.0261,  0.2932],\n",
       "         [ 0.4524,  0.1104,  0.8426,  ..., -0.0545, -1.6128,  1.2752],\n",
       "         [-0.1578,  0.9909, -0.0263,  ...,  0.1268, -0.1324, -1.2667]],\n",
       "        dtype=torch.float64),)"
      ]
     },
     "execution_count": 13,
     "metadata": {},
     "output_type": "execute_result"
    }
   ],
   "source": [
    "dataset=TensorDataset(dataT)\n",
    "dataset.tensors"
   ]
  },
  {
   "cell_type": "code",
   "execution_count": 16,
   "id": "ba767fa8",
   "metadata": {},
   "outputs": [
    {
     "name": "stdout",
     "output_type": "stream",
     "text": [
      "torch.Size([100, 20])\n",
      "torch.Size([100, 1])\n",
      "(100,)\n"
     ]
    }
   ],
   "source": [
    "labels=torch.ceil(torch.linspace(0.01,4,nObservation))\n",
    "labels=labels.reshape((len(labels),1))\n",
    "# print(labels)\n",
    "dataset=TensorDataset(dataT,labels)\n",
    "print(dataset.tensors[0].size())\n",
    "print(dataset.tensors[1].size())\n",
    "print(np.shape(np.random.randint(5,size=nObservation)))"
   ]
  },
  {
   "cell_type": "code",
   "execution_count": 18,
   "id": "8ffffe1d",
   "metadata": {},
   "outputs": [
    {
     "data": {
      "text/plain": [
       "torch.Size([100, 20])"
      ]
     },
     "execution_count": 18,
     "metadata": {},
     "output_type": "execute_result"
    }
   ],
   "source": [
    "batchsize=25\n",
    "dataloader=DataLoader(dataset,batch_size=batchsize)\n",
    "dataloader.dataset.tensors[0].size()"
   ]
  },
  {
   "cell_type": "code",
   "execution_count": 20,
   "id": "9e83a78b",
   "metadata": {},
   "outputs": [
    {
     "name": "stdout",
     "output_type": "stream",
     "text": [
      "BATCH INFO: \n",
      "torch.Size([25, 20])\n",
      "torch.Size([25, 1])\n",
      " \n",
      "BATCH INFO: \n",
      "torch.Size([25, 20])\n",
      "torch.Size([25, 1])\n",
      " \n",
      "BATCH INFO: \n",
      "torch.Size([25, 20])\n",
      "torch.Size([25, 1])\n",
      " \n",
      "BATCH INFO: \n",
      "torch.Size([25, 20])\n",
      "torch.Size([25, 1])\n",
      " \n"
     ]
    }
   ],
   "source": [
    "for dat,labels in dataloader:\n",
    "    print('BATCH INFO: ')\n",
    "    print(dat.size())\n",
    "    print(labels.size())\n",
    "    print(' ')"
   ]
  },
  {
   "cell_type": "code",
   "execution_count": 22,
   "id": "2055ad54",
   "metadata": {},
   "outputs": [
    {
     "name": "stdout",
     "output_type": "stream",
     "text": [
      "tensor([[1., 1., 1., 1., 1., 1., 1., 1., 1., 1., 1., 1., 1., 1., 1., 1., 1., 1.,\n",
      "         1., 1., 1., 1., 1., 1., 1.]])\n",
      " \n",
      "tensor([[2., 2., 2., 2., 2., 2., 2., 2., 2., 2., 2., 2., 2., 2., 2., 2., 2., 2.,\n",
      "         2., 2., 2., 2., 2., 2., 2.]])\n",
      " \n",
      "tensor([[3., 3., 3., 3., 3., 3., 3., 3., 3., 3., 3., 3., 3., 3., 3., 3., 3., 3.,\n",
      "         3., 3., 3., 3., 3., 3., 3.]])\n",
      " \n",
      "tensor([[4., 4., 4., 4., 4., 4., 4., 4., 4., 4., 4., 4., 4., 4., 4., 4., 4., 4.,\n",
      "         4., 4., 4., 4., 4., 4., 4.]])\n",
      " \n"
     ]
    }
   ],
   "source": [
    "for dat,labs in dataloader:\n",
    "    print(labs.T)\n",
    "    print(' ')"
   ]
  },
  {
   "cell_type": "code",
   "execution_count": 23,
   "id": "ab76ed99",
   "metadata": {},
   "outputs": [
    {
     "data": {
      "text/plain": [
       "torch.Size([100, 20])"
      ]
     },
     "execution_count": 23,
     "metadata": {},
     "output_type": "execute_result"
    }
   ],
   "source": [
    "batchsize=25\n",
    "dataloader=DataLoader(dataset,batch_size=batchsize,shuffle=True)\n",
    "dataloader.dataset.tensors[0].size()"
   ]
  },
  {
   "cell_type": "code",
   "execution_count": 24,
   "id": "c370d92c",
   "metadata": {},
   "outputs": [
    {
     "name": "stdout",
     "output_type": "stream",
     "text": [
      "tensor([[3., 1., 1., 2., 1., 2., 2., 4., 3., 4., 2., 4., 4., 2., 1., 4., 2., 1.,\n",
      "         3., 2., 2., 2., 2., 3., 1.]])\n",
      " \n",
      "tensor([[3., 3., 4., 1., 1., 4., 2., 2., 2., 4., 1., 4., 2., 1., 4., 2., 1., 4.,\n",
      "         4., 1., 1., 3., 3., 4., 1.]])\n",
      " \n",
      "tensor([[2., 4., 1., 2., 4., 1., 4., 1., 2., 3., 3., 3., 2., 2., 3., 1., 4., 2.,\n",
      "         4., 3., 4., 2., 3., 3., 2.]])\n",
      " \n",
      "tensor([[4., 1., 3., 2., 1., 4., 4., 3., 2., 3., 3., 4., 3., 3., 1., 3., 3., 1.,\n",
      "         4., 3., 1., 1., 4., 3., 1.]])\n",
      " \n"
     ]
    }
   ],
   "source": [
    "for dat,labs in dataloader:\n",
    "    print(labs.T)\n",
    "    print(' ')"
   ]
  },
  {
   "cell_type": "code",
   "execution_count": 25,
   "id": "9b103873",
   "metadata": {},
   "outputs": [
    {
     "name": "stdout",
     "output_type": "stream",
     "text": [
      "tensor([[4., 2., 3., 4., 3., 1., 4., 2., 3., 1., 1., 3., 3., 4., 1., 2., 1., 1.,\n",
      "         2., 2., 2., 1., 2., 4., 2.]])\n",
      " \n",
      "tensor([[2., 4., 1., 3., 1., 3., 4., 3., 2., 4., 2., 1., 2., 4., 1., 2., 1., 1.,\n",
      "         4., 1., 2., 4., 4., 3., 4.]])\n",
      " \n",
      "tensor([[4., 3., 3., 1., 3., 1., 3., 4., 2., 4., 4., 2., 1., 2., 3., 2., 3., 1.,\n",
      "         3., 3., 1., 4., 2., 1., 4.]])\n",
      " \n",
      "tensor([[3., 4., 2., 2., 1., 3., 2., 4., 3., 2., 3., 1., 4., 3., 4., 1., 2., 3.,\n",
      "         1., 3., 4., 4., 1., 2., 3.]])\n",
      " \n"
     ]
    }
   ],
   "source": [
    "for dat,labs in dataloader:\n",
    "    print(labs.T)\n",
    "    print(' ')"
   ]
  },
  {
   "cell_type": "code",
   "execution_count": 26,
   "id": "e794021d",
   "metadata": {},
   "outputs": [
    {
     "data": {
      "text/plain": [
       "tensor([[4.],\n",
       "        [4.],\n",
       "        [1.],\n",
       "        [3.],\n",
       "        [2.],\n",
       "        [2.],\n",
       "        [1.],\n",
       "        [2.],\n",
       "        [1.],\n",
       "        [4.],\n",
       "        [2.],\n",
       "        [1.],\n",
       "        [3.],\n",
       "        [2.],\n",
       "        [4.],\n",
       "        [4.],\n",
       "        [3.],\n",
       "        [2.],\n",
       "        [2.],\n",
       "        [2.],\n",
       "        [4.],\n",
       "        [2.],\n",
       "        [2.],\n",
       "        [4.],\n",
       "        [1.]])"
      ]
     },
     "execution_count": 26,
     "metadata": {},
     "output_type": "execute_result"
    }
   ],
   "source": [
    "dat,labs=next(iter(dataloader))\n",
    "labs"
   ]
  },
  {
   "cell_type": "code",
   "execution_count": null,
   "id": "44e866e7",
   "metadata": {},
   "outputs": [],
   "source": []
  }
 ],
 "metadata": {
  "kernelspec": {
   "display_name": "Python 3 (ipykernel)",
   "language": "python",
   "name": "python3"
  },
  "language_info": {
   "codemirror_mode": {
    "name": "ipython",
    "version": 3
   },
   "file_extension": ".py",
   "mimetype": "text/x-python",
   "name": "python",
   "nbconvert_exporter": "python",
   "pygments_lexer": "ipython3",
   "version": "3.10.12"
  }
 },
 "nbformat": 4,
 "nbformat_minor": 5
}
