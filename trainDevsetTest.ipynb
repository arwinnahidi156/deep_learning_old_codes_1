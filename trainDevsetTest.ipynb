{
 "cells": [
  {
   "cell_type": "code",
   "execution_count": 1,
   "id": "8a4e2ac9",
   "metadata": {},
   "outputs": [],
   "source": [
    "import numpy as np\n",
    "from sklearn.model_selection import train_test_split"
   ]
  },
  {
   "cell_type": "code",
   "execution_count": 2,
   "id": "5dca76fa",
   "metadata": {},
   "outputs": [
    {
     "name": "stdout",
     "output_type": "stream",
     "text": [
      "[[ 11  12  13  14]\n",
      " [ 21  22  23  24]\n",
      " [ 31  32  33  34]\n",
      " [ 41  42  43  44]\n",
      " [ 51  52  53  54]\n",
      " [ 61  62  63  64]\n",
      " [ 71  72  73  74]\n",
      " [ 81  82  83  84]\n",
      " [ 91  92  93  94]\n",
      " [101 102 103 104]]\n",
      "\n",
      "[False False False False False  True  True  True  True  True]\n"
     ]
    }
   ],
   "source": [
    "fakedata=np.tile(np.array([1,2,3,4]),(10,1))+np.tile(10*np.arange(1,11),(4,1)).T\n",
    "fakelabels=np.arange(10)>4\n",
    "print(fakedata)\n",
    "print()\n",
    "print(fakelabels)"
   ]
  },
  {
   "cell_type": "code",
   "execution_count": 6,
   "id": "627588cc",
   "metadata": {},
   "outputs": [],
   "source": [
    "partitons=[0.8,0.1,0.1]\n",
    "X_train, X_TMPtest, y_train, y_TMPtest = train_test_split(\n",
    "    fakedata, fakelabels, train_size=partitons[0], random_state=42)\n",
    "split=partitons[1]/np.sum(partitons[1:])\n",
    "X_devset, X_test, y_devset, y_test = train_test_split(\n",
    "    X_TMPtest, y_TMPtest, train_size=split, random_state=42)\n",
    "\n"
   ]
  },
  {
   "cell_type": "code",
   "execution_count": 7,
   "id": "e73022c7",
   "metadata": {},
   "outputs": [
    {
     "name": "stdout",
     "output_type": "stream",
     "text": [
      "training data size: (8, 4)\n",
      "devset data size: (1, 4)\n",
      "test data size: (1, 4)\n"
     ]
    }
   ],
   "source": [
    "print(f'training data size: {X_train.shape}')\n",
    "print(f'devset data size: {X_devset.shape}')\n",
    "print(f'test data size: {X_test.shape}')\n"
   ]
  },
  {
   "cell_type": "code",
   "execution_count": 12,
   "id": "cddd005e",
   "metadata": {},
   "outputs": [
    {
     "data": {
      "text/plain": [
       "array([8, 1, 4, 3, 7, 5, 6, 0, 2, 9])"
      ]
     },
     "execution_count": 12,
     "metadata": {},
     "output_type": "execute_result"
    }
   ],
   "source": [
    "partitons=np.array(partitons)\n",
    "partitonBnd=np.cumsum(partitons*len(fakelabels)).astype(int)\n",
    "randidx=np.random.permutation(range(len(fakelabels)))\n",
    "randidx"
   ]
  },
  {
   "cell_type": "code",
   "execution_count": 11,
   "id": "a65a4b58",
   "metadata": {},
   "outputs": [
    {
     "data": {
      "text/plain": [
       "array([ 8,  9, 10])"
      ]
     },
     "execution_count": 11,
     "metadata": {},
     "output_type": "execute_result"
    }
   ],
   "source": [
    "partitonBnd"
   ]
  },
  {
   "cell_type": "code",
   "execution_count": 16,
   "id": "c922db99",
   "metadata": {},
   "outputs": [
    {
     "name": "stdout",
     "output_type": "stream",
     "text": [
      "[[91 92 93 94]\n",
      " [21 22 23 24]\n",
      " [51 52 53 54]\n",
      " [41 42 43 44]\n",
      " [81 82 83 84]\n",
      " [61 62 63 64]\n",
      " [71 72 73 74]\n",
      " [11 12 13 14]]\n",
      "\n",
      "[ True False False False  True  True  True False]\n"
     ]
    }
   ],
   "source": [
    "X_train=fakedata[randidx[:partitonBnd[0]],:]\n",
    "y_train=fakelabels[randidx[:partitonBnd[0]]]\n",
    "print(X_train)\n",
    "print()\n",
    "print(y_train)"
   ]
  },
  {
   "cell_type": "code",
   "execution_count": 20,
   "id": "e3830c70",
   "metadata": {},
   "outputs": [
    {
     "name": "stdout",
     "output_type": "stream",
     "text": [
      "[[31 32 33 34]]\n",
      "\n",
      "[False]\n"
     ]
    }
   ],
   "source": [
    "X_devset=fakedata[randidx[partitonBnd[0]:partitonBnd[1]],:]\n",
    "y_devset=fakelabels[randidx[partitonBnd[0]:partitonBnd[1]]]\n",
    "print(X_devset)\n",
    "print()\n",
    "print(y_devset)"
   ]
  },
  {
   "cell_type": "code",
   "execution_count": 22,
   "id": "9b64ebd2",
   "metadata": {},
   "outputs": [
    {
     "name": "stdout",
     "output_type": "stream",
     "text": [
      "[[101 102 103 104]]\n",
      "\n",
      "[ True]\n"
     ]
    }
   ],
   "source": [
    "X_test=fakedata[randidx[partitonBnd[1]:partitonBnd[2]],:]\n",
    "y_test=fakelabels[randidx[partitonBnd[1]:partitonBnd[2]]]\n",
    "print(X_test)\n",
    "print()\n",
    "print(y_test)"
   ]
  },
  {
   "cell_type": "code",
   "execution_count": null,
   "id": "81bc096b",
   "metadata": {},
   "outputs": [],
   "source": []
  }
 ],
 "metadata": {
  "kernelspec": {
   "display_name": "Python 3 (ipykernel)",
   "language": "python",
   "name": "python3"
  },
  "language_info": {
   "codemirror_mode": {
    "name": "ipython",
    "version": 3
   },
   "file_extension": ".py",
   "mimetype": "text/x-python",
   "name": "python",
   "nbconvert_exporter": "python",
   "pygments_lexer": "ipython3",
   "version": "3.10.6"
  }
 },
 "nbformat": 4,
 "nbformat_minor": 5
}
