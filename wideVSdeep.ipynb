{
 "cells": [
  {
   "cell_type": "code",
   "execution_count": 1,
   "id": "c60a21f2",
   "metadata": {},
   "outputs": [],
   "source": [
    "import numpy as np\n",
    "import torch\n",
    "import torch.nn as nn"
   ]
  },
  {
   "cell_type": "code",
   "execution_count": 3,
   "id": "d8f3ff21",
   "metadata": {},
   "outputs": [
    {
     "name": "stdout",
     "output_type": "stream",
     "text": [
      "Sequential(\n",
      "  (0): Linear(in_features=2, out_features=4, bias=True)\n",
      "  (1): Linear(in_features=4, out_features=3, bias=True)\n",
      ")\n",
      "\n",
      "Sequential(\n",
      "  (0): Linear(in_features=2, out_features=2, bias=True)\n",
      "  (1): Linear(in_features=2, out_features=2, bias=True)\n",
      "  (2): Linear(in_features=2, out_features=3, bias=True)\n",
      ")\n"
     ]
    }
   ],
   "source": [
    "widenet=nn.Sequential(nn.Linear(2,4),\n",
    "                     nn.Linear(4,3),)\n",
    "deepnet=nn.Sequential(nn.Linear(2,2),\n",
    "                     nn.Linear(2,2),\n",
    "                     nn.Linear(2,3),)\n",
    "print(widenet)\n",
    "print()\n",
    "print(deepnet)"
   ]
  },
  {
   "cell_type": "code",
   "execution_count": 6,
   "id": "37d10826",
   "metadata": {},
   "outputs": [
    {
     "name": "stdout",
     "output_type": "stream",
     "text": [
      "('0.weight', Parameter containing:\n",
      "tensor([[-0.3271, -0.3949],\n",
      "        [-0.0846, -0.6919]], requires_grad=True))\n",
      "\n",
      "2\n",
      "\n",
      "('0.bias', Parameter containing:\n",
      "tensor([-0.5105,  0.1837], requires_grad=True))\n",
      "\n",
      "2\n",
      "\n",
      "('1.weight', Parameter containing:\n",
      "tensor([[ 0.4009,  0.2847],\n",
      "        [-0.6736,  0.3906]], requires_grad=True))\n",
      "\n",
      "2\n",
      "\n",
      "('1.bias', Parameter containing:\n",
      "tensor([ 0.3765, -0.2498], requires_grad=True))\n",
      "\n",
      "2\n",
      "\n",
      "('2.weight', Parameter containing:\n",
      "tensor([[-0.5827, -0.2275],\n",
      "        [ 0.1349,  0.6969],\n",
      "        [ 0.4130,  0.0044]], requires_grad=True))\n",
      "\n",
      "3\n",
      "\n",
      "('2.bias', Parameter containing:\n",
      "tensor([0.4008, 0.1127, 0.3227], requires_grad=True))\n",
      "\n",
      "3\n",
      "\n"
     ]
    }
   ],
   "source": [
    "for p in deepnet.named_parameters():\n",
    "    print(p)\n",
    "    print()\n",
    "    print(len(p[1]))\n",
    "    print()"
   ]
  },
  {
   "cell_type": "code",
   "execution_count": 8,
   "id": "349491e2",
   "metadata": {},
   "outputs": [
    {
     "name": "stdout",
     "output_type": "stream",
     "text": [
      "there are 7 nodes in the wide network\n",
      "there are 7 nodes in the deep network\n"
     ]
    }
   ],
   "source": [
    "numNodesInWide=0\n",
    "for p in widenet.named_parameters():\n",
    "    if 'bias' in p[0]:\n",
    "        numNodesInWide+=len(p[1])\n",
    "numNodesInDeep=0\n",
    "for paramName,paramVect in deepnet.named_parameters():\n",
    "     if 'bias' in paramName:\n",
    "            numNodesInDeep+=len(paramVect)\n",
    "print(f'there are {numNodesInWide} nodes in the wide network')\n",
    "print(f'there are {numNodesInDeep} nodes in the deep network')\n"
   ]
  },
  {
   "cell_type": "code",
   "execution_count": 9,
   "id": "6863012d",
   "metadata": {},
   "outputs": [
    {
     "name": "stdout",
     "output_type": "stream",
     "text": [
      "Parameter containing:\n",
      "tensor([[-0.7044, -0.2381],\n",
      "        [-0.2941, -0.2944],\n",
      "        [-0.1212,  0.0758],\n",
      "        [-0.4099, -0.0066]], requires_grad=True)\n",
      "\n",
      "Parameter containing:\n",
      "tensor([ 0.2191, -0.4090, -0.3948, -0.3411], requires_grad=True)\n",
      "\n",
      "Parameter containing:\n",
      "tensor([[-0.2954, -0.2461,  0.4083,  0.1192],\n",
      "        [-0.1637, -0.1634,  0.3091, -0.4683],\n",
      "        [-0.0078,  0.2343,  0.2519, -0.2452]], requires_grad=True)\n",
      "\n",
      "Parameter containing:\n",
      "tensor([0.1701, 0.1438, 0.4602], requires_grad=True)\n",
      "\n"
     ]
    }
   ],
   "source": [
    "for p in widenet.parameters():\n",
    "    print(p)\n",
    "    print()"
   ]
  },
  {
   "cell_type": "code",
   "execution_count": 11,
   "id": "2fb9d4d9",
   "metadata": {},
   "outputs": [
    {
     "name": "stdout",
     "output_type": "stream",
     "text": [
      "this piece has 8 parameters\n",
      "this piece has 4 parameters\n",
      "this piece has 12 parameters\n",
      "this piece has 3 parameters\n",
      "total of 27 parameters\n"
     ]
    }
   ],
   "source": [
    "nparams=0\n",
    "for p in widenet.parameters():\n",
    "    if p.requires_grad:\n",
    "        print(f'this piece has {p.numel()} parameters')\n",
    "        nparams+=p.numel()\n",
    "print(f'total of {nparams} parameters')"
   ]
  },
  {
   "cell_type": "code",
   "execution_count": 12,
   "id": "861978a0",
   "metadata": {},
   "outputs": [
    {
     "name": "stdout",
     "output_type": "stream",
     "text": [
      "Widenet has 27 parameters\n",
      "Widenet has 21 parameters\n"
     ]
    }
   ],
   "source": [
    "nparams=np.sum([p.numel() for p in widenet.parameters() if p.requires_grad])\n",
    "print(f'Widenet has {nparams} parameters')\n",
    "nparams=np.sum([p.numel() for p in deepnet.parameters() if p.requires_grad])\n",
    "print(f'Widenet has {nparams} parameters')\n"
   ]
  },
  {
   "cell_type": "code",
   "execution_count": null,
   "id": "952368da",
   "metadata": {},
   "outputs": [],
   "source": []
  },
  {
   "cell_type": "code",
   "execution_count": 15,
   "id": "597c2735",
   "metadata": {},
   "outputs": [],
   "source": [
    "from torchsummary import summary"
   ]
  },
  {
   "cell_type": "code",
   "execution_count": 20,
   "id": "09d8c555",
   "metadata": {},
   "outputs": [
    {
     "name": "stdout",
     "output_type": "stream",
     "text": [
      "----------------------------------------------------------------\n",
      "        Layer (type)               Output Shape         Param #\n",
      "================================================================\n",
      "            Linear-1                 [-1, 1, 4]              12\n",
      "            Linear-2                 [-1, 1, 3]              15\n",
      "================================================================\n",
      "Total params: 27\n",
      "Trainable params: 27\n",
      "Non-trainable params: 0\n",
      "----------------------------------------------------------------\n",
      "Input size (MB): 0.00\n",
      "Forward/backward pass size (MB): 0.00\n",
      "Params size (MB): 0.00\n",
      "Estimated Total Size (MB): 0.00\n",
      "----------------------------------------------------------------\n"
     ]
    }
   ],
   "source": [
    "summary(widenet,(1,2))"
   ]
  },
  {
   "cell_type": "code",
   "execution_count": 23,
   "id": "1845e7bc",
   "metadata": {},
   "outputs": [
    {
     "name": "stdout",
     "output_type": "stream",
     "text": [
      "----------------------------------------------------------------\n",
      "        Layer (type)               Output Shape         Param #\n",
      "================================================================\n",
      "            Linear-1                 [-1, 2, 2]               6\n",
      "            Linear-2                 [-1, 2, 2]               6\n",
      "            Linear-3                 [-1, 2, 3]               9\n",
      "================================================================\n",
      "Total params: 21\n",
      "Trainable params: 21\n",
      "Non-trainable params: 0\n",
      "----------------------------------------------------------------\n",
      "Input size (MB): 0.00\n",
      "Forward/backward pass size (MB): 0.00\n",
      "Params size (MB): 0.00\n",
      "Estimated Total Size (MB): 0.00\n",
      "----------------------------------------------------------------\n"
     ]
    }
   ],
   "source": [
    "summary(deepnet,(2,2))"
   ]
  },
  {
   "cell_type": "code",
   "execution_count": null,
   "id": "0319fc64",
   "metadata": {},
   "outputs": [],
   "source": []
  }
 ],
 "metadata": {
  "kernelspec": {
   "display_name": "Python 3 (ipykernel)",
   "language": "python",
   "name": "python3"
  },
  "language_info": {
   "codemirror_mode": {
    "name": "ipython",
    "version": 3
   },
   "file_extension": ".py",
   "mimetype": "text/x-python",
   "name": "python",
   "nbconvert_exporter": "python",
   "pygments_lexer": "ipython3",
   "version": "3.10.6"
  }
 },
 "nbformat": 4,
 "nbformat_minor": 5
}
